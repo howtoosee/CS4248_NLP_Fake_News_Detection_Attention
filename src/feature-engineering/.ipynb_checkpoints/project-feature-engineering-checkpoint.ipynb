{
 "cells": [
  {
   "cell_type": "code",
   "execution_count": 1,
   "metadata": {},
   "outputs": [],
   "source": [
    "import pandas as pd\n",
    "import random\n",
    "import math\n",
    "from matplotlib import pyplot as plt\n",
    "%matplotlib inline\n",
    "\n",
    "import re\n",
    "import nltk\n",
    "import numpy as np\n",
    "\n",
    "from sklearn.metrics import accuracy_score\n",
    "from sklearn.metrics import f1_score\n",
    "from sklearn.metrics import classification_report\n",
    "from sklearn.preprocessing import StandardScaler\n",
    "\n",
    "import tensorflow as tf\n",
    "import gensim.downloader\n"
   ]
  },
  {
   "cell_type": "code",
   "execution_count": 2,
   "metadata": {},
   "outputs": [],
   "source": [
    "full_train = pd.read_csv(\"./full_train_processed.csv\").drop(columns = \"Unnamed: 0\")\n"
   ]
  },
  {
   "cell_type": "code",
   "execution_count": 4,
   "metadata": {},
   "outputs": [],
   "source": [
    "balanced_test =pd.read_csv(\"./balanced_test_processed.csv\").drop(columns = \"Unnamed: 0\")\n"
   ]
  },
  {
   "cell_type": "markdown",
   "metadata": {},
   "source": [
    "# Feature engineering"
   ]
  },
  {
   "cell_type": "markdown",
   "metadata": {},
   "source": [
    "#### Some functions to draw figures to evaluate usefulness of feature"
   ]
  },
  {
   "cell_type": "code",
   "execution_count": 386,
   "metadata": {},
   "outputs": [],
   "source": [
    "def boxplot(df,col_name,ylim = None,title = \"\"):\n",
    "    plt.boxplot([df[df[\"0\"] == 1][col_name],\n",
    "             df[df[\"0\"] == 2][col_name],\n",
    "             df[df[\"0\"] == 3][col_name],\n",
    "            df[df[\"0\"] == 4][col_name]])\n",
    "    plt.xticks([1,2,3,4],[\"Satire\",\"Hoax\",\"Propaganda\",\"Reliable\"])\n",
    "    plt.title(title)\n",
    "    plt.ylim(ylim)\n",
    "    \n",
    "def boxplot2(df1,df2,col_name,ylim = None,ylim2 = None,title = \"\", title2 = \"\"):\n",
    "    fig,ax = plt.subplots(nrows = 1, ncols = 2, figsize = (15,5))\n",
    "    ax[0].boxplot([df1[df1[\"0\"] == 1][col_name],\n",
    "             df1[df1[\"0\"] == 2][col_name],\n",
    "             df1[df1[\"0\"] == 3][col_name],\n",
    "            df1[df1[\"0\"] == 4][col_name]])\n",
    "    ax[0].set_xticks([1,2,3,4],[\"Satire\",\"Hoax\",\"Propaganda\",\"Reliable\"])\n",
    "    ax[0].set_title(title)\n",
    "    ax[0].set_ylim(ylim)\n",
    "    \n",
    "    ax[1].boxplot([df2[df2[\"0\"] == 1][col_name],\n",
    "             df2[df2[\"0\"] == 2][col_name],\n",
    "             df2[df2[\"0\"] == 3][col_name],\n",
    "            df2[df2[\"0\"] == 4][col_name]])\n",
    "    ax[1].set_xticks([1,2,3,4],[\"Satire\",\"Hoax\",\"Propaganda\",\"Reliable\"])\n",
    "    ax[1].set_title(title2)\n",
    "    ax[1].set_ylim(ylim2)"
   ]
  },
  {
   "cell_type": "code",
   "execution_count": 6,
   "metadata": {},
   "outputs": [],
   "source": [
    "def violinplot(df,col_name,ylim = None,title = \"\"):\n",
    "    plt.violinplot([df[df[\"0\"] == 1][col_name],\n",
    "             df[df[\"0\"] == 2][col_name],\n",
    "             df[df[\"0\"] == 3][col_name],\n",
    "            df[df[\"0\"] == 4][col_name]])\n",
    "    plt.xticks([1,2,3,4],[\"Satire\",\"Hoax\",\"Propaganda\",\"Reliable\"])\n",
    "    plt.title(title)\n",
    "    plt.ylim(ylim)"
   ]
  },
  {
   "cell_type": "code",
   "execution_count": 383,
   "metadata": {},
   "outputs": [],
   "source": [
    "def stackplot(df,col_name,ylim = None,title = \"\"):\n",
    "    count_0 = list(df[df[col_name] == 0].groupby(\"0\").count()[col_name])\n",
    "    count_1 = list(df[df[col_name] == 1].groupby(\"0\").count()[col_name])\n",
    "    plt.bar([\"Satire\",\"Hoax\",\"Propaganda\",\"Reliable\"], count_0, label=col_name + \" absent\")\n",
    "    plt.bar([\"Satire\",\"Hoax\",\"Propaganda\",\"Reliable\"], count_1, bottom=count_0,\n",
    "           label= col_name +' present')\n",
    "    plt.title(title)\n",
    "    plt.legend()\n",
    "    \n",
    "def stackplot2(df1,df2,col_name,ylim = None,title = \"\",title2 = \"\"):\n",
    "    fig,ax = plt.subplots(nrows = 1, ncols = 2, figsize = (15,5))\n",
    "    \n",
    "    count_0 = list(df1[df1[col_name] == 0].groupby(\"0\").count()[col_name])\n",
    "    count_1 = list(df1[df1[col_name] == 1].groupby(\"0\").count()[col_name])\n",
    "    \n",
    "    test_count_0 = list(df2[df2[col_name] == 0].groupby(\"0\").count()[col_name])\n",
    "    test_count_1 = list(df2[df2[col_name] == 1].groupby(\"0\").count()[col_name])\n",
    "    \n",
    "    ax[0].bar([\"Satire\",\"Hoax\",\"Propaganda\",\"Reliable\"], count_0, label=col_name + \" absent\")\n",
    "    ax[0].bar([\"Satire\",\"Hoax\",\"Propaganda\",\"Reliable\"], count_1, bottom=count_0,\n",
    "           label= col_name +' present')\n",
    "    ax[0].set_title(title)\n",
    "    ax[0].legend()\n",
    "    \n",
    "    ax[1].bar([\"Satire\",\"Hoax\",\"Propaganda\",\"Reliable\"], test_count_0, label=col_name + \" absent\")\n",
    "    ax[1].bar([\"Satire\",\"Hoax\",\"Propaganda\",\"Reliable\"], test_count_1, bottom=test_count_0,\n",
    "           label= col_name +' present')\n",
    "    ax[1].set_title(title2)\n",
    "    ax[1].legend()"
   ]
  },
  {
   "cell_type": "markdown",
   "metadata": {},
   "source": [
    "### Feature: Length"
   ]
  },
  {
   "cell_type": "code",
   "execution_count": 8,
   "metadata": {},
   "outputs": [],
   "source": [
    "def get_length(x):\n",
    "    return len(x.split(\" \"))"
   ]
  },
  {
   "cell_type": "code",
   "execution_count": 12,
   "metadata": {},
   "outputs": [
    {
     "data": {
      "image/png": "[encoded data removed]",
      "text/plain": [
       "<Figure size 432x288 with 1 Axes>"
      ]
     },
     "metadata": {
      "needs_background": "light"
     },
     "output_type": "display_data"
    }
   ],
   "source": [
    "full_train[\"length\"] = full_train[\"1\"].apply(get_length)\n",
    "boxplot(full_train,\"length\",(0,5000),\"Length of Document\") # Truncated plot"
   ]
  },
  {
   "cell_type": "markdown",
   "metadata": {},
   "source": [
    "### Feature: Number of quotations"
   ]
  },
  {
   "cell_type": "code",
   "execution_count": 11,
   "metadata": {},
   "outputs": [],
   "source": [
    "def num_quotes(x):\n",
    "    return len(re.findall(\"[\\\"\\']\",x))"
   ]
  },
  {
   "cell_type": "code",
   "execution_count": 14,
   "metadata": {
    "scrolled": true
   },
   "outputs": [
    {
     "data": {
      "image/png": "[encoded data removed]",
      "text/plain": [
       "<Figure size 432x288 with 1 Axes>"
      ]
     },
     "metadata": {
      "needs_background": "light"
     },
     "output_type": "display_data"
    }
   ],
   "source": [
    "full_train[\"num_quotes\"] = full_train[\"1\"].apply(num_quotes)\n",
    "boxplot(full_train,\"num_quotes\",None,\"Number of quotations\")"
   ]
  },
  {
   "cell_type": "markdown",
   "metadata": {},
   "source": [
    "### Feature: Number of first person singular and Number of third person plural"
   ]
  },
  {
   "cell_type": "code",
   "execution_count": 17,
   "metadata": {},
   "outputs": [],
   "source": [
    "def num_firstperson_singular(x):\n",
    "    return len(re.findall(\"(?:^|\\W)(i|me|my|mine|myself)(?:$|\\W)\",x.lower()))\n",
    "\n",
    "def num_thirdperson_plural(x):\n",
    "    return len(re.findall(\"(?:^|\\W)(they|them|themselves|theirs)(?:$|\\W)\",x.lower()))"
   ]
  },
  {
   "cell_type": "code",
   "execution_count": 18,
   "metadata": {},
   "outputs": [],
   "source": [
    "full_train[\"num_firstperson\"] = full_train[\"1\"].apply(num_firstperson_singular)\n",
    "full_train[\"num_thirdperson\"] = full_train[\"1\"].apply(num_thirdperson_plural)"
   ]
  },
  {
   "cell_type": "code",
   "execution_count": 25,
   "metadata": {},
   "outputs": [
    {
     "data": {
      "image/png": "[encoded data removed]",
      "text/plain": [
       "<Figure size 432x288 with 1 Axes>"
      ]
     },
     "metadata": {
      "needs_background": "light"
     },
     "output_type": "display_data"
    }
   ],
   "source": [
    "boxplot(full_train, \"num_firstperson\",(-1,25),\"Number of first person singular\")"
   ]
  },
  {
   "cell_type": "code",
   "execution_count": 26,
   "metadata": {
    "scrolled": true
   },
   "outputs": [
    {
     "data": {
      "image/png": "[encoded data removed]",
      "text/plain": [
       "<Figure size 432x288 with 1 Axes>"
      ]
     },
     "metadata": {
      "needs_background": "light"
     },
     "output_type": "display_data"
    }
   ],
   "source": [
    "boxplot(full_train, \"num_thirdperson\",(-1,25),\"Number of third person plural\")"
   ]
  },
  {
   "cell_type": "markdown",
   "metadata": {},
   "source": [
    "### Feature: Count of numbers"
   ]
  },
  {
   "cell_type": "code",
   "execution_count": 27,
   "metadata": {},
   "outputs": [],
   "source": [
    "def num_numbers(x):\n",
    "    return len(re.findall(\"\\d+\",x.lower()))"
   ]
  },
  {
   "cell_type": "code",
   "execution_count": 28,
   "metadata": {},
   "outputs": [],
   "source": [
    "full_train[\"num_numbers\"] = full_train[\"1\"].apply(num_numbers)"
   ]
  },
  {
   "cell_type": "code",
   "execution_count": 30,
   "metadata": {},
   "outputs": [
    {
     "data": {
      "image/png": "[encoded data removed]",
      "text/plain": [
       "<Figure size 432x288 with 1 Axes>"
      ]
     },
     "metadata": {
      "needs_background": "light"
     },
     "output_type": "display_data"
    }
   ],
   "source": [
    "boxplot(full_train,\"num_numbers\",(0,40),\"Count of Numbers\")"
   ]
  },
  {
   "cell_type": "markdown",
   "metadata": {},
   "source": [
    "### Feature: Presence of Profanity"
   ]
  },
  {
   "cell_type": "code",
   "execution_count": 35,
   "metadata": {
    "scrolled": true
   },
   "outputs": [],
   "source": [
    "# source: https://github.com/boriel/perlfunc\n",
    "from perlfunc import perl5lib, perlfunc, perlreq\n",
    "\n",
    "@perlfunc\n",
    "@perlreq('./Regexp-common/lib/detect_profanity.pl')\n",
    "def profanity_(a):\n",
    "    pass \n"
   ]
  },
  {
   "cell_type": "code",
   "execution_count": 36,
   "metadata": {
    "scrolled": true
   },
   "outputs": [],
   "source": [
    "# source: https://metacpan.org/pod/Regexp::Common::profanity#$RE%7Bprofanity%7D\n",
    "def profanity(x):\n",
    "    return profanity_(x)\n"
   ]
  },
  {
   "cell_type": "code",
   "execution_count": 38,
   "metadata": {},
   "outputs": [],
   "source": [
    "full_train[\"profanity\"] = full_train.loc[:,\"processed\"].apply(profanity)\n",
    "full_train[\"profanity\"] = full_train[\"profanity\"].map(int)\n"
   ]
  },
  {
   "cell_type": "code",
   "execution_count": 374,
   "metadata": {},
   "outputs": [
    {
     "data": {
      "image/png": "[encoded data removed]",
      "text/plain": [
       "<Figure size 432x288 with 1 Axes>"
      ]
     },
     "metadata": {
      "needs_background": "light"
     },
     "output_type": "display_data"
    }
   ],
   "source": [
    "stackplot(full_train,\"profanity\")\n"
   ]
  },
  {
   "cell_type": "markdown",
   "metadata": {},
   "source": [
    "### Feature: Sentiments"
   ]
  },
  {
   "cell_type": "code",
   "execution_count": 49,
   "metadata": {},
   "outputs": [],
   "source": [
    "from nltk.sentiment.vader import SentimentIntensityAnalyzer\n",
    "senti = SentimentIntensityAnalyzer()"
   ]
  },
  {
   "cell_type": "markdown",
   "metadata": {},
   "source": [
    "#### Negative score"
   ]
  },
  {
   "cell_type": "code",
   "execution_count": 50,
   "metadata": {},
   "outputs": [],
   "source": [
    "def neg(x):\n",
    "    return senti.polarity_scores(x)['neg']\n",
    "full_train[\"neg\"] = full_train.loc[:,\"1\"].apply(neg)"
   ]
  },
  {
   "cell_type": "code",
   "execution_count": 51,
   "metadata": {},
   "outputs": [
    {
     "data": {
      "image/png": "[encoded data removed]",
      "text/plain": [
       "<Figure size 432x288 with 1 Axes>"
      ]
     },
     "metadata": {
      "needs_background": "light"
     },
     "output_type": "display_data"
    }
   ],
   "source": [
    "violinplot(full_train,\"neg\")"
   ]
  },
  {
   "cell_type": "markdown",
   "metadata": {},
   "source": [
    "#### Positive score"
   ]
  },
  {
   "cell_type": "code",
   "execution_count": 53,
   "metadata": {},
   "outputs": [],
   "source": [
    "def pos(x):\n",
    "    return senti.polarity_scores(x)['pos']\n",
    "full_train[\"pos\"] = full_train.loc[:,\"1\"].apply(pos)"
   ]
  },
  {
   "cell_type": "code",
   "execution_count": 63,
   "metadata": {
    "scrolled": true
   },
   "outputs": [
    {
     "data": {
      "image/png": "[encoded data removed]",
      "text/plain": [
       "<Figure size 432x288 with 1 Axes>"
      ]
     },
     "metadata": {
      "needs_background": "light"
     },
     "output_type": "display_data"
    }
   ],
   "source": [
    "violinplot(full_train,\"pos\")"
   ]
  },
  {
   "cell_type": "markdown",
   "metadata": {},
   "source": [
    "#### Neutral score"
   ]
  },
  {
   "cell_type": "code",
   "execution_count": 54,
   "metadata": {},
   "outputs": [],
   "source": [
    "def neu(x):\n",
    "    return senti.polarity_scores(x)['neu']\n",
    "full_train[\"neu\"] = full_train.loc[:,\"1\"].apply(neu)"
   ]
  },
  {
   "cell_type": "code",
   "execution_count": 64,
   "metadata": {
    "scrolled": true
   },
   "outputs": [
    {
     "data": {
      "image/png": "[encoded data removed]",
      "text/plain": [
       "<Figure size 432x288 with 1 Axes>"
      ]
     },
     "metadata": {
      "needs_background": "light"
     },
     "output_type": "display_data"
    }
   ],
   "source": [
    "violinplot(full_train,\"neu\")"
   ]
  },
  {
   "cell_type": "markdown",
   "metadata": {},
   "source": [
    "#### Compound score"
   ]
  },
  {
   "cell_type": "code",
   "execution_count": 55,
   "metadata": {},
   "outputs": [],
   "source": [
    "def compound(x):\n",
    "    return senti.polarity_scores(x)['compound']\n",
    "full_train[\"compound\"] = full_train.loc[:,\"1\"].apply(compound)"
   ]
  },
  {
   "cell_type": "code",
   "execution_count": 65,
   "metadata": {},
   "outputs": [
    {
     "data": {
      "image/png": "[encoded data removed]",
      "text/plain": [
       "<Figure size 432x288 with 1 Axes>"
      ]
     },
     "metadata": {
      "needs_background": "light"
     },
     "output_type": "display_data"
    }
   ],
   "source": [
    "violinplot(full_train,\"compound\")"
   ]
  },
  {
   "cell_type": "markdown",
   "metadata": {},
   "source": [
    "### Feature: Hedging words"
   ]
  },
  {
   "cell_type": "code",
   "execution_count": 56,
   "metadata": {},
   "outputs": [],
   "source": [
    "#source: http://jal.iaut.ac.ir/article_524171_19ce974d4c9441a312df2d6eaac20a15.pdf\n",
    "#https://hal.inria.fr/hal-03342756/file/Besancon__Definitely_Maybe__preprint%20%281%29.pdf\n",
    "\n",
    "modal = \"Can Could May Might Should Will Would\" \n",
    "re_modal = \"(?:^|\\W)(\" + \"|\".join(modal.lower().split(\" \")) + \")(?:$|\\W)\"\n",
    "\n",
    "lexical = \"Appear Argue Assert Assume Attempt Believe Claim Conclude Consider Doubt Estimate Evaluate Expect Feel Hypothesize Imply Indicate Interpret Maintain Note Offer Observe Perceive Presume Propose Prove Report Seem Seen Speculate Suggest Suppose Suspect Tend Think\"\n",
    "lexical_s = [i + \"s\" for i in lexical.lower().split(\" \")]\n",
    "re_lexical = \"(?:^|\\W)(\" + \"|\".join(lexical.lower().split(\" \") + lexical_s) + \"|attempt to|can be seen\" + \")(?:$|\\W)\"\n",
    "\n",
    "adverbs = \"About Allegedly Almost Apparently Approximately Around Arguably Barely Commonly Conceivably Considerably Doubtless Fairly Frequently Generally Given that Greatly Highly Hypothetically Largely Likely Mainly Markedly Maybe Modestly Mostly Nearly Normally Occasionally Often Partially Partly Perhaps Possibly Potentially Practically Presumably Primarily Probably Provided Quite Rarely Reasonably Relatively Reportedly Roughly Seemingly Seldom Significantly Slightly Sometimes Somewhat Strongly Substantially Supposedly Tentatively Theoretically Typically Unlikely Usually Vastly Virtually Widely\" \n",
    "re_adverbs = \"(?:^|\\W)(\" + \"|\".join(adverbs.lower().split(\" \")) + \"|provided that\" + \")(?:$|\\W)\"\n",
    "\n",
    "adjectives = \"Apparent Approximate Common Conceivable Considerable Consistent with Frequent General Hypothetical Improbable Indicative Large Likely Little Main Major Modest Noticeable Plausible Possible Potential Primary Probable Rare Relative Remarkable Rough Significant Slight Small Substantial Theoretical Typical Uncommon Unlikely Usual Well-Known\" \n",
    "re_adjectives = \"(?:^|\\W)(\" + \"|\".join(adjectives.lower().split(\" \")) + \")(?:$|\\W)\"\n",
    "\n",
    "nouns = \"Alternative Approximation Assertion Assessment Assumption Belief Chance Claim Conclusion Doubt Estimate Estimation Evaluation Expectation Hope Idea Implication Indication Interpretation Likelihood Opinion Possibility Premise Probability Proposal Suggestion Tendency View\"\n",
    "re_nouns = \"(?:^|\\W)(\" + \"|\".join(nouns.lower().split(\" \")) + \")(?:$|\\W)\""
   ]
  },
  {
   "cell_type": "markdown",
   "metadata": {},
   "source": [
    "#### Presence of hedges in document"
   ]
  },
  {
   "cell_type": "code",
   "execution_count": 69,
   "metadata": {},
   "outputs": [],
   "source": [
    "def hedges(x):\n",
    "    if (len(re.findall(re_modal,x.lower())) + \n",
    "            len(re.findall(re_lexical,x.lower())) + \n",
    "            len(re.findall(re_adverbs,x.lower())) +\n",
    "            len(re.findall(re_adjectives,x.lower())) +\n",
    "            len(re.findall(re_nouns,x.lower()))) == 0:\n",
    "        return 0\n",
    "    else:\n",
    "        return 1\n",
    "    \n",
    "full_train[\"hedges\"] = full_train.loc[:,\"processed\"].apply(hedges)"
   ]
  },
  {
   "cell_type": "code",
   "execution_count": 375,
   "metadata": {},
   "outputs": [
    {
     "data": {
      "image/png": "[encoded data removed]",
      "text/plain": [
       "<Figure size 432x288 with 1 Axes>"
      ]
     },
     "metadata": {
      "needs_background": "light"
     },
     "output_type": "display_data"
    }
   ],
   "source": [
    "stackplot(full_train,\"hedges\")"
   ]
  },
  {
   "cell_type": "markdown",
   "metadata": {},
   "source": [
    "### Feature: Booster words"
   ]
  },
  {
   "cell_type": "code",
   "execution_count": 60,
   "metadata": {},
   "outputs": [],
   "source": [
    "#source: http://jal.iaut.ac.ir/article_524171_19ce974d4c9441a312df2d6eaac20a15.pdf\n",
    "#https://hal.inria.fr/hal-03342756/file/Besancon__Definitely_Maybe__preprint%20%281%29.pdf\n",
    "\n",
    "modal_boosters = \"Can't Cant Cannot Couldn't Couldnt Must Will Won't Wont Would Wouldn't Wouldnt\"\n",
    "re_modal_boosters = \"(?:^|\\W)(\" + \"|\".join(modal_boosters.lower().split(\" \")) + \"|could not|can not|will not|would not\" + \")(?:$|\\W)\"\n",
    "\n",
    "lexical_boosters = \"Assure Assures Confirm Confirms Demonstrate Demonstrates Do Does Establish Establishes Find Finds Indicate Indicates Know Knows Predict Predicts Reinforce Reinforces Show Shows\" \n",
    "re_lexical_boosters = \"(?:^|\\W)(\" + \"|\".join(lexical_boosters.lower().split(\" \")) + \")(?:$|\\W)\"\n",
    "\n",
    "adverbs_boosters = \"Absolutely Actually Always Assuredly Basically Certainly Clearly Completely Definitely Entirely Essentially Evidently Exactly Explicitly Extremely Factually Fully Fundamentally Indeed Indisputably Inevitably Intensively Necessarily Never Obviously Patently Plainly Precisely Really Surely Truly Totally Thoroughly Unarguably Undeniably Undoubtedly Unquestionably\" \n",
    "re_adverbs_boosters = \"(?:^|\\W)(\" + \"|\".join(adverbs_boosters.lower().split(\" \")) + \"in fact|no doubt|of course \" + \")(?:$|\\W)\"\n",
    "\n",
    "adjectives_boosters = \"Absolute Certain Clear Complete Confident Definite Essential Evident Exact Extreme Impossible Inevitable Obvious Really Perfect Plain Real Sure Thorough Total True\" \n",
    "re_adjectives_boosters = \"(?:^|\\W)(\" + \"|\".join(adjectives_boosters.lower().split(\" \")) + \")(?:$|\\W)\"\n",
    "\n",
    "nouns_boosters = \"Certainty Certainties Confidence Confidences Evidence Evidences Fact FactsPrecision Precisions\"\n",
    "re_nouns_boosters = \"(?:^|\\W)(\" + \"|\".join(nouns_boosters.lower().split(\" \")) + \")(?:$|\\W)\""
   ]
  },
  {
   "cell_type": "markdown",
   "metadata": {},
   "source": [
    "#### Presence of Boosters in document"
   ]
  },
  {
   "cell_type": "code",
   "execution_count": 78,
   "metadata": {},
   "outputs": [],
   "source": [
    "def boosters(x):\n",
    "    if (len(re.findall(re_modal_boosters,x.lower())) + \n",
    "            len(re.findall(re_lexical_boosters,x.lower())) + \n",
    "            len(re.findall(re_adverbs_boosters,x.lower())) +\n",
    "            len(re.findall(re_adjectives_boosters,x.lower())) +\n",
    "            len(re.findall(re_nouns_boosters,x.lower()))) == 0:\n",
    "        return 0\n",
    "    else:\n",
    "        return 1\n",
    "    \n",
    "full_train[\"boosters\"] = full_train.loc[:,\"processed\"].apply(boosters)"
   ]
  },
  {
   "cell_type": "code",
   "execution_count": 376,
   "metadata": {},
   "outputs": [
    {
     "data": {
      "image/png": "[encoded data removed]",
      "text/plain": [
       "<Figure size 432x288 with 1 Axes>"
      ]
     },
     "metadata": {
      "needs_background": "light"
     },
     "output_type": "display_data"
    }
   ],
   "source": [
    "stackplot(full_train,\"boosters\")"
   ]
  },
  {
   "cell_type": "markdown",
   "metadata": {},
   "source": [
    "Therefore, from the plots using the training set, the features that are useful are: \n",
    "1. Length\n",
    "2. Number of quotations\n",
    "3. Count of numbers\n",
    "4. Profanity\n",
    "5. Compound Score\n",
    "6. Presence of hedges"
   ]
  },
  {
   "cell_type": "code",
   "execution_count": 80,
   "metadata": {},
   "outputs": [],
   "source": [
    "# only use features that are useful in distinguishing the classes\n",
    "train_filtered = full_train.drop(columns =[\"num_firstperson\",\"num_thirdperson\",\"neg\",\"pos\",\"neu\",\"boosters\"])"
   ]
  },
  {
   "cell_type": "code",
   "execution_count": 82,
   "metadata": {},
   "outputs": [],
   "source": [
    "# create feature for test set\n",
    "balanced_test[\"length\"] = balanced_test.loc[:,\"1\"].apply(get_length)\n",
    "balanced_test[\"num_quotes\"] = balanced_test.loc[:,\"1\"].apply(num_quotes)\n",
    "balanced_test[\"num_numbers\"] = balanced_test.loc[:,\"1\"].apply(num_numbers)\n",
    "balanced_test[\"profanity\"] = balanced_test.loc[:,\"processed\"].apply(profanity)\n",
    "balanced_test[\"profanity\"] = balanced_test[\"profanity\"].map(int)\n",
    "balanced_test[\"compound\"] = balanced_test.loc[:,\"1\"].apply(compound)\n",
    "balanced_test[\"hedges\"] = balanced_test.loc[:,\"processed\"].apply(hedges)\n"
   ]
  },
  {
   "cell_type": "markdown",
   "metadata": {},
   "source": [
    "### Word2vec"
   ]
  },
  {
   "cell_type": "code",
   "execution_count": 83,
   "metadata": {},
   "outputs": [],
   "source": [
    "# load embeddings\n",
    "model = gensim.downloader.load('glove-wiki-gigaword-300')"
   ]
  },
  {
   "cell_type": "code",
   "execution_count": 84,
   "metadata": {},
   "outputs": [],
   "source": [
    "sentences = [re.sub('[\\.?!,:;]', \"\",list(full_train[\"processed\"])[i]).split(\" \") for i in range(len(list(full_train[\"processed\"])))]\n",
    "test_sentences = [re.sub('[\\.?!,:;]', \"\",list(balanced_test[\"processed\"])[i]).split(\" \") for i in range(len(list(balanced_test[\"processed\"])))]"
   ]
  },
  {
   "cell_type": "code",
   "execution_count": 85,
   "metadata": {},
   "outputs": [
    {
     "name": "stderr",
     "output_type": "stream",
     "text": [
      "/Users/admin/opt/miniconda3/lib/python3.9/site-packages/numpy/core/fromnumeric.py:3440: RuntimeWarning: Mean of empty slice.\n",
      "  return _methods._mean(a, axis=axis, dtype=dtype,\n",
      "/Users/admin/opt/miniconda3/lib/python3.9/site-packages/numpy/core/_methods.py:189: RuntimeWarning: invalid value encountered in double_scalars\n",
      "  ret = ret.dtype.type(ret / rcount)\n"
     ]
    }
   ],
   "source": [
    "all_res = []\n",
    "for i in range(len(sentences)):\n",
    "    curr = sentences[i]\n",
    "    res = []\n",
    "    for j in range(len(curr)):\n",
    "        try: \n",
    "            res.append(model[curr[j]])\n",
    "        except Exception as e:\n",
    "            pass\n",
    "    res = np.array(res)\n",
    "    res = np.mean(res,axis = 0)\n",
    "    if np.isnan(res).all():\n",
    "        res = np.zeros(all_res[-1].shape)\n",
    "    all_res.append(res)"
   ]
  },
  {
   "cell_type": "code",
   "execution_count": 216,
   "metadata": {},
   "outputs": [],
   "source": [
    "vec_df = pd.DataFrame(all_res)\n",
    "train_vec = pd.concat([train_filtered.reset_index(),vec_df],axis = 1).drop(columns=\"index\")"
   ]
  },
  {
   "cell_type": "code",
   "execution_count": 88,
   "metadata": {},
   "outputs": [],
   "source": [
    "all_res_test = []\n",
    "for i in range(len(test_sentences)):\n",
    "    curr = test_sentences[i]\n",
    "    res = []\n",
    "    for j in range(len(curr)):\n",
    "        try:\n",
    "            res.append(model[curr[j]])\n",
    "        except Exception as e:\n",
    "            pass\n",
    "    res = np.array(res)\n",
    "    res = np.mean(res,axis = 0)\n",
    "    if np.isnan(res).all():\n",
    "        res = np.zeros(all_res[-1].shape)\n",
    "    all_res_test.append(res)"
   ]
  },
  {
   "cell_type": "code",
   "execution_count": 217,
   "metadata": {},
   "outputs": [],
   "source": [
    "vec_df_test = pd.DataFrame(all_res_test)\n",
    "test_vec = pd.concat([balanced_test.reset_index(),vec_df_test],axis = 1).drop(columns=\"index\")\n"
   ]
  },
  {
   "cell_type": "code",
   "execution_count": 155,
   "metadata": {},
   "outputs": [],
   "source": [
    "def predict_nn(model, X_test):\n",
    "    test_pred = model.predict(np.array(X_test))\n",
    "    result = []\n",
    "    test_pred = np.argmax(test_pred,axis = 1)\n",
    "    for i in test_pred:\n",
    "        result.append(i+1)        \n",
    "    return np.array(result)"
   ]
  },
  {
   "cell_type": "markdown",
   "metadata": {},
   "source": [
    "#### Split into Train and Validation set (80:20)"
   ]
  },
  {
   "cell_type": "code",
   "execution_count": 218,
   "metadata": {},
   "outputs": [],
   "source": [
    "random.seed(10)\n",
    "idxs = list(train_vec.index)\n",
    "random.shuffle(idxs) #randomly split into train and validation set using indexes\n",
    "\n",
    "num_train = math.ceil(len(train_vec)*0.8)\n",
    "\n",
    "train_idxs = idxs[:num_train]\n",
    "valid_idxs = idxs[num_train:]\n",
    "\n",
    "train_df = train_vec.iloc[train_idxs,:]\n",
    "valid_df = train_vec.iloc[valid_idxs,:]"
   ]
  },
  {
   "cell_type": "code",
   "execution_count": 158,
   "metadata": {},
   "outputs": [
    {
     "data": {
      "text/plain": [
       "Text(0.5, 1.0, 'Valid set distribution')"
      ]
     },
     "execution_count": 158,
     "metadata": {},
     "output_type": "execute_result"
    },
    {
     "data": {
      "image/png": "[encoded data removed]",
      "text/plain": [
       "<Figure size 1080x288 with 2 Axes>"
      ]
     },
     "metadata": {
      "needs_background": "light"
     },
     "output_type": "display_data"
    }
   ],
   "source": [
    "fig,ax = plt.subplots(nrows = 1, ncols = 2, figsize = (15,4))\n",
    "ax[0].bar([\"Satire\",\"Hoax\",\"Propaganda\",\"Reliable\"],train_df.groupby(\"0\").count()[\"processed\"])\n",
    "ax[0].set_title(\"Train set distribution\")\n",
    "ax[1].bar([\"Satire\",\"Hoax\",\"Propaganda\",\"Reliable\"],valid_df.groupby(\"0\").count()[\"processed\"])\n",
    "ax[1].set_title(\"Valid set distribution\")"
   ]
  },
  {
   "cell_type": "markdown",
   "metadata": {},
   "source": [
    "### Using only word embeddings"
   ]
  },
  {
   "cell_type": "code",
   "execution_count": 219,
   "metadata": {},
   "outputs": [],
   "source": [
    "ytrain_map = []\n",
    "for i in train_df.iloc[:,0]:\n",
    "    ytrain_map.append(i-1)\n",
    "\n",
    "yvalid_map = []\n",
    "for i in valid_df.iloc[:,0]:\n",
    "    yvalid_map.append(i-1)"
   ]
  },
  {
   "cell_type": "code",
   "execution_count": 232,
   "metadata": {
    "scrolled": true
   },
   "outputs": [],
   "source": [
    "scaler = StandardScaler().fit(train_df.iloc[:,9:])\n",
    "Xtrain_scaled_wb = pd.DataFrame(scaler.transform(train_df.iloc[:,9:]))\n",
    "Xvalid_scaled_wb = pd.DataFrame(scaler.transform(valid_df.iloc[:,9:]))\n",
    "Xtest_scaled_wb = pd.DataFrame(scaler.transform(test_vec.iloc[:,9:]))"
   ]
  },
  {
   "cell_type": "code",
   "execution_count": 281,
   "metadata": {
    "scrolled": true
   },
   "outputs": [
    {
     "name": "stdout",
     "output_type": "stream",
     "text": [
      "Model: \"sequential_49\"\n",
      "_________________________________________________________________\n",
      " Layer (type)                Output Shape              Param #   \n",
      "=================================================================\n",
      " dense_147 (Dense)           (None, 40)                12040     \n",
      "                                                                 \n",
      " dense_148 (Dense)           (None, 40)                1640      \n",
      "                                                                 \n",
      " dense_149 (Dense)           (None, 4)                 164       \n",
      "                                                                 \n",
      "=================================================================\n",
      "Total params: 13,844\n",
      "Trainable params: 13,844\n",
      "Non-trainable params: 0\n",
      "_________________________________________________________________\n",
      "None\n",
      "Epoch 1/100\n",
      "306/306 [==============================] - 1s 2ms/step - loss: 0.8507 - accuracy: 0.7478 - val_loss: 0.5811 - val_accuracy: 0.8511\n",
      "Epoch 2/100\n",
      "306/306 [==============================] - 1s 2ms/step - loss: 0.5511 - accuracy: 0.8565 - val_loss: 0.5049 - val_accuracy: 0.8672\n",
      "Epoch 3/100\n",
      "306/306 [==============================] - 0s 1ms/step - loss: 0.5036 - accuracy: 0.8652 - val_loss: 0.4758 - val_accuracy: 0.8728\n",
      "Epoch 4/100\n",
      "306/306 [==============================] - 1s 2ms/step - loss: 0.4805 - accuracy: 0.8678 - val_loss: 0.4627 - val_accuracy: 0.8763\n",
      "Epoch 5/100\n",
      "306/306 [==============================] - 1s 2ms/step - loss: 0.4652 - accuracy: 0.8715 - val_loss: 0.4505 - val_accuracy: 0.8797\n",
      "Epoch 6/100\n",
      "306/306 [==============================] - 1s 2ms/step - loss: 0.4535 - accuracy: 0.8737 - val_loss: 0.4429 - val_accuracy: 0.8793\n",
      "Epoch 7/100\n",
      "306/306 [==============================] - 0s 1ms/step - loss: 0.4443 - accuracy: 0.8773 - val_loss: 0.4339 - val_accuracy: 0.8795\n",
      "Epoch 8/100\n",
      "306/306 [==============================] - 0s 1ms/step - loss: 0.4360 - accuracy: 0.8791 - val_loss: 0.4325 - val_accuracy: 0.8828\n",
      "Epoch 9/100\n",
      "306/306 [==============================] - 0s 1ms/step - loss: 0.4294 - accuracy: 0.8798 - val_loss: 0.4230 - val_accuracy: 0.8829\n",
      "Epoch 10/100\n",
      "306/306 [==============================] - 0s 1ms/step - loss: 0.4230 - accuracy: 0.8836 - val_loss: 0.4232 - val_accuracy: 0.8851\n",
      "Epoch 11/100\n",
      "306/306 [==============================] - 0s 1ms/step - loss: 0.4185 - accuracy: 0.8835 - val_loss: 0.4153 - val_accuracy: 0.8868\n",
      "Epoch 12/100\n",
      "306/306 [==============================] - 0s 1ms/step - loss: 0.4126 - accuracy: 0.8872 - val_loss: 0.4116 - val_accuracy: 0.8899\n",
      "Epoch 13/100\n",
      "306/306 [==============================] - 0s 1ms/step - loss: 0.4080 - accuracy: 0.8885 - val_loss: 0.4093 - val_accuracy: 0.8877\n",
      "Epoch 14/100\n",
      "306/306 [==============================] - 0s 1ms/step - loss: 0.4037 - accuracy: 0.8892 - val_loss: 0.4029 - val_accuracy: 0.8910\n",
      "Epoch 15/100\n",
      "306/306 [==============================] - 0s 1ms/step - loss: 0.3986 - accuracy: 0.8922 - val_loss: 0.4031 - val_accuracy: 0.8896\n",
      "Epoch 16/100\n",
      "306/306 [==============================] - 0s 1ms/step - loss: 0.3957 - accuracy: 0.8923 - val_loss: 0.4020 - val_accuracy: 0.8913\n",
      "Epoch 17/100\n",
      "306/306 [==============================] - 0s 1ms/step - loss: 0.3913 - accuracy: 0.8957 - val_loss: 0.3963 - val_accuracy: 0.8938\n",
      "Epoch 18/100\n",
      "306/306 [==============================] - 0s 1ms/step - loss: 0.3869 - accuracy: 0.8955 - val_loss: 0.4023 - val_accuracy: 0.8919\n",
      "Epoch 19/100\n",
      "306/306 [==============================] - 0s 1ms/step - loss: 0.3837 - accuracy: 0.8961 - val_loss: 0.3945 - val_accuracy: 0.8943\n",
      "Epoch 20/100\n",
      "306/306 [==============================] - 0s 1ms/step - loss: 0.3796 - accuracy: 0.8987 - val_loss: 0.3957 - val_accuracy: 0.8954\n",
      "Epoch 21/100\n",
      "306/306 [==============================] - 0s 1ms/step - loss: 0.3764 - accuracy: 0.9008 - val_loss: 0.3998 - val_accuracy: 0.8912\n",
      "Epoch 22/100\n",
      "306/306 [==============================] - 0s 1ms/step - loss: 0.3742 - accuracy: 0.9010 - val_loss: 0.3869 - val_accuracy: 0.8997\n",
      "Epoch 23/100\n",
      "306/306 [==============================] - 0s 1ms/step - loss: 0.3690 - accuracy: 0.9034 - val_loss: 0.3879 - val_accuracy: 0.8968\n",
      "Epoch 24/100\n",
      "306/306 [==============================] - 0s 1ms/step - loss: 0.3673 - accuracy: 0.9036 - val_loss: 0.3912 - val_accuracy: 0.8968\n",
      "Epoch 25/100\n",
      "306/306 [==============================] - 0s 1ms/step - loss: 0.3633 - accuracy: 0.9047 - val_loss: 0.3861 - val_accuracy: 0.8965\n",
      "Epoch 26/100\n",
      "306/306 [==============================] - 0s 1ms/step - loss: 0.3614 - accuracy: 0.9070 - val_loss: 0.3833 - val_accuracy: 0.9010\n",
      "Epoch 27/100\n",
      "306/306 [==============================] - 0s 1ms/step - loss: 0.3591 - accuracy: 0.9079 - val_loss: 0.3889 - val_accuracy: 0.8974\n",
      "Epoch 28/100\n",
      "306/306 [==============================] - 0s 1ms/step - loss: 0.3570 - accuracy: 0.9082 - val_loss: 0.3841 - val_accuracy: 0.8966\n",
      "Epoch 29/100\n",
      "306/306 [==============================] - 0s 1ms/step - loss: 0.3550 - accuracy: 0.9095 - val_loss: 0.3884 - val_accuracy: 0.8968\n",
      "Epoch 30/100\n",
      "306/306 [==============================] - 0s 1ms/step - loss: 0.3521 - accuracy: 0.9100 - val_loss: 0.3834 - val_accuracy: 0.9004\n",
      "Epoch 31/100\n",
      "306/306 [==============================] - 0s 1ms/step - loss: 0.3495 - accuracy: 0.9111 - val_loss: 0.3781 - val_accuracy: 0.9044\n",
      "Epoch 32/100\n",
      "306/306 [==============================] - 0s 1ms/step - loss: 0.3475 - accuracy: 0.9118 - val_loss: 0.3796 - val_accuracy: 0.9043\n",
      "Epoch 33/100\n",
      "306/306 [==============================] - 0s 1ms/step - loss: 0.3458 - accuracy: 0.9127 - val_loss: 0.3799 - val_accuracy: 0.9017\n",
      "Epoch 34/100\n",
      "306/306 [==============================] - 0s 1ms/step - loss: 0.3436 - accuracy: 0.9148 - val_loss: 0.3810 - val_accuracy: 0.9003\n",
      "Epoch 35/100\n",
      "306/306 [==============================] - 0s 1ms/step - loss: 0.3420 - accuracy: 0.9139 - val_loss: 0.3807 - val_accuracy: 0.9014\n",
      "Epoch 36/100\n",
      "306/306 [==============================] - 0s 1ms/step - loss: 0.3412 - accuracy: 0.9146 - val_loss: 0.3742 - val_accuracy: 0.9038\n",
      "Epoch 37/100\n",
      "306/306 [==============================] - 0s 1ms/step - loss: 0.3384 - accuracy: 0.9158 - val_loss: 0.3782 - val_accuracy: 0.9027\n",
      "Epoch 38/100\n",
      "306/306 [==============================] - 0s 1ms/step - loss: 0.3364 - accuracy: 0.9164 - val_loss: 0.3795 - val_accuracy: 0.9033\n",
      "Epoch 39/100\n",
      "306/306 [==============================] - 0s 1ms/step - loss: 0.3346 - accuracy: 0.9166 - val_loss: 0.3875 - val_accuracy: 0.9002\n",
      "Epoch 40/100\n",
      "306/306 [==============================] - 0s 1ms/step - loss: 0.3328 - accuracy: 0.9185 - val_loss: 0.3731 - val_accuracy: 0.9037\n",
      "Epoch 41/100\n",
      "306/306 [==============================] - 0s 1ms/step - loss: 0.3313 - accuracy: 0.9177 - val_loss: 0.3741 - val_accuracy: 0.9041\n",
      "Epoch 42/100\n",
      "306/306 [==============================] - 0s 1ms/step - loss: 0.3311 - accuracy: 0.9179 - val_loss: 0.3788 - val_accuracy: 0.9026\n",
      "Epoch 43/100\n",
      "306/306 [==============================] - 0s 1ms/step - loss: 0.3277 - accuracy: 0.9192 - val_loss: 0.3731 - val_accuracy: 0.9054\n",
      "Epoch 44/100\n",
      "306/306 [==============================] - 0s 1ms/step - loss: 0.3273 - accuracy: 0.9202 - val_loss: 0.3743 - val_accuracy: 0.9020\n",
      "Epoch 45/100\n",
      "306/306 [==============================] - 0s 1ms/step - loss: 0.3269 - accuracy: 0.9205 - val_loss: 0.3704 - val_accuracy: 0.9062\n",
      "Epoch 46/100\n",
      "306/306 [==============================] - 0s 1ms/step - loss: 0.3233 - accuracy: 0.9205 - val_loss: 0.3716 - val_accuracy: 0.9067\n",
      "Epoch 47/100\n",
      "306/306 [==============================] - 0s 1ms/step - loss: 0.3229 - accuracy: 0.9219 - val_loss: 0.3693 - val_accuracy: 0.9066\n",
      "Epoch 48/100\n",
      "306/306 [==============================] - 0s 1ms/step - loss: 0.3229 - accuracy: 0.9224 - val_loss: 0.3678 - val_accuracy: 0.9083\n",
      "Epoch 49/100\n",
      "306/306 [==============================] - 0s 1ms/step - loss: 0.3196 - accuracy: 0.9235 - val_loss: 0.3730 - val_accuracy: 0.9055\n",
      "Epoch 50/100\n",
      "306/306 [==============================] - 0s 1ms/step - loss: 0.3192 - accuracy: 0.9227 - val_loss: 0.3709 - val_accuracy: 0.9063\n",
      "Epoch 51/100\n",
      "306/306 [==============================] - 0s 1ms/step - loss: 0.3191 - accuracy: 0.9233 - val_loss: 0.3708 - val_accuracy: 0.9046\n",
      "Epoch 52/100\n",
      "306/306 [==============================] - 0s 1ms/step - loss: 0.3169 - accuracy: 0.9232 - val_loss: 0.3714 - val_accuracy: 0.9074\n",
      "Epoch 53/100\n",
      "306/306 [==============================] - 0s 1ms/step - loss: 0.3156 - accuracy: 0.9253 - val_loss: 0.3750 - val_accuracy: 0.9068\n",
      "Epoch 54/100\n",
      "306/306 [==============================] - 0s 1ms/step - loss: 0.3145 - accuracy: 0.9258 - val_loss: 0.3694 - val_accuracy: 0.9069\n",
      "Epoch 55/100\n",
      "306/306 [==============================] - 0s 1ms/step - loss: 0.3130 - accuracy: 0.9252 - val_loss: 0.3689 - val_accuracy: 0.9080\n",
      "Epoch 56/100\n",
      "306/306 [==============================] - 0s 1ms/step - loss: 0.3108 - accuracy: 0.9266 - val_loss: 0.3690 - val_accuracy: 0.9071\n",
      "Epoch 57/100\n",
      "306/306 [==============================] - 0s 1ms/step - loss: 0.3112 - accuracy: 0.9264 - val_loss: 0.3663 - val_accuracy: 0.9058\n",
      "Epoch 58/100\n",
      "306/306 [==============================] - 0s 1ms/step - loss: 0.3094 - accuracy: 0.9272 - val_loss: 0.3658 - val_accuracy: 0.9071\n",
      "Epoch 59/100\n",
      "306/306 [==============================] - 0s 1ms/step - loss: 0.3091 - accuracy: 0.9267 - val_loss: 0.3669 - val_accuracy: 0.9058\n",
      "Epoch 60/100\n",
      "306/306 [==============================] - 0s 1ms/step - loss: 0.3076 - accuracy: 0.9283 - val_loss: 0.3648 - val_accuracy: 0.9078\n",
      "Epoch 61/100\n",
      "306/306 [==============================] - 0s 1ms/step - loss: 0.3074 - accuracy: 0.9276 - val_loss: 0.3628 - val_accuracy: 0.9088\n",
      "Epoch 62/100\n",
      "306/306 [==============================] - 0s 1ms/step - loss: 0.3064 - accuracy: 0.9285 - val_loss: 0.3661 - val_accuracy: 0.9078\n",
      "Epoch 63/100\n",
      "306/306 [==============================] - 0s 1ms/step - loss: 0.3050 - accuracy: 0.9288 - val_loss: 0.3719 - val_accuracy: 0.9055\n",
      "Epoch 64/100\n",
      "306/306 [==============================] - 0s 2ms/step - loss: 0.3043 - accuracy: 0.9281 - val_loss: 0.3620 - val_accuracy: 0.9100\n",
      "Epoch 65/100\n",
      "306/306 [==============================] - 1s 2ms/step - loss: 0.3036 - accuracy: 0.9294 - val_loss: 0.3679 - val_accuracy: 0.9087\n",
      "Epoch 66/100\n",
      "306/306 [==============================] - 0s 1ms/step - loss: 0.3019 - accuracy: 0.9304 - val_loss: 0.3623 - val_accuracy: 0.9105\n",
      "Epoch 67/100\n",
      "306/306 [==============================] - 0s 1ms/step - loss: 0.3014 - accuracy: 0.9310 - val_loss: 0.3706 - val_accuracy: 0.9062\n",
      "Epoch 68/100\n",
      "306/306 [==============================] - 0s 1ms/step - loss: 0.3004 - accuracy: 0.9305 - val_loss: 0.3647 - val_accuracy: 0.9097\n",
      "Epoch 69/100\n",
      "306/306 [==============================] - 0s 1ms/step - loss: 0.2999 - accuracy: 0.9297 - val_loss: 0.3651 - val_accuracy: 0.9107\n",
      "Epoch 70/100\n",
      "306/306 [==============================] - 0s 1ms/step - loss: 0.2994 - accuracy: 0.9298 - val_loss: 0.3674 - val_accuracy: 0.9081\n",
      "Epoch 71/100\n",
      "306/306 [==============================] - 0s 1ms/step - loss: 0.2983 - accuracy: 0.9311 - val_loss: 0.3627 - val_accuracy: 0.9117\n",
      "Epoch 72/100\n",
      "306/306 [==============================] - 0s 1ms/step - loss: 0.2973 - accuracy: 0.9310 - val_loss: 0.3636 - val_accuracy: 0.9086\n",
      "Epoch 73/100\n",
      "306/306 [==============================] - 0s 1ms/step - loss: 0.2961 - accuracy: 0.9318 - val_loss: 0.3654 - val_accuracy: 0.9099\n",
      "Epoch 74/100\n",
      "306/306 [==============================] - 0s 1ms/step - loss: 0.2957 - accuracy: 0.9317 - val_loss: 0.3710 - val_accuracy: 0.9067\n",
      "Epoch 75/100\n",
      "306/306 [==============================] - 0s 1ms/step - loss: 0.2939 - accuracy: 0.9329 - val_loss: 0.3621 - val_accuracy: 0.9105\n",
      "Epoch 76/100\n",
      "306/306 [==============================] - 0s 1ms/step - loss: 0.2948 - accuracy: 0.9317 - val_loss: 0.3700 - val_accuracy: 0.9063\n",
      "Epoch 77/100\n",
      "306/306 [==============================] - 0s 1ms/step - loss: 0.2928 - accuracy: 0.9324 - val_loss: 0.3620 - val_accuracy: 0.9108\n",
      "Epoch 78/100\n",
      "306/306 [==============================] - 0s 1ms/step - loss: 0.2912 - accuracy: 0.9331 - val_loss: 0.3613 - val_accuracy: 0.9103\n",
      "Epoch 79/100\n",
      "306/306 [==============================] - 0s 1ms/step - loss: 0.2907 - accuracy: 0.9336 - val_loss: 0.3644 - val_accuracy: 0.9108\n",
      "Epoch 80/100\n",
      "306/306 [==============================] - 0s 1ms/step - loss: 0.2892 - accuracy: 0.9335 - val_loss: 0.3622 - val_accuracy: 0.9106\n",
      "Epoch 81/100\n",
      "306/306 [==============================] - 0s 1ms/step - loss: 0.2911 - accuracy: 0.9335 - val_loss: 0.3611 - val_accuracy: 0.9095\n",
      "Epoch 82/100\n",
      "306/306 [==============================] - 0s 1ms/step - loss: 0.2885 - accuracy: 0.9351 - val_loss: 0.3641 - val_accuracy: 0.9097\n",
      "Epoch 83/100\n",
      "306/306 [==============================] - 0s 1ms/step - loss: 0.2890 - accuracy: 0.9334 - val_loss: 0.3654 - val_accuracy: 0.9105\n",
      "Epoch 84/100\n",
      "306/306 [==============================] - 0s 1ms/step - loss: 0.2882 - accuracy: 0.9358 - val_loss: 0.3640 - val_accuracy: 0.9110\n",
      "Epoch 85/100\n",
      "306/306 [==============================] - 0s 1ms/step - loss: 0.2864 - accuracy: 0.9349 - val_loss: 0.3606 - val_accuracy: 0.9110\n",
      "Epoch 86/100\n",
      "306/306 [==============================] - 0s 1ms/step - loss: 0.2865 - accuracy: 0.9357 - val_loss: 0.3699 - val_accuracy: 0.9073\n",
      "Epoch 87/100\n",
      "306/306 [==============================] - 0s 1ms/step - loss: 0.2860 - accuracy: 0.9364 - val_loss: 0.3779 - val_accuracy: 0.9048\n",
      "Epoch 88/100\n",
      "306/306 [==============================] - 0s 1ms/step - loss: 0.2865 - accuracy: 0.9350 - val_loss: 0.3618 - val_accuracy: 0.9136\n",
      "Epoch 89/100\n",
      "306/306 [==============================] - 0s 1ms/step - loss: 0.2839 - accuracy: 0.9371 - val_loss: 0.3706 - val_accuracy: 0.9103\n",
      "Epoch 90/100\n",
      "306/306 [==============================] - 0s 1ms/step - loss: 0.2840 - accuracy: 0.9366 - val_loss: 0.3676 - val_accuracy: 0.9105\n",
      "Epoch 91/100\n",
      "306/306 [==============================] - 0s 1ms/step - loss: 0.2835 - accuracy: 0.9373 - val_loss: 0.3613 - val_accuracy: 0.9139\n",
      "Epoch 92/100\n",
      "306/306 [==============================] - 0s 1ms/step - loss: 0.2841 - accuracy: 0.9361 - val_loss: 0.3682 - val_accuracy: 0.9081\n",
      "Epoch 93/100\n",
      "306/306 [==============================] - 0s 1ms/step - loss: 0.2820 - accuracy: 0.9366 - val_loss: 0.3658 - val_accuracy: 0.9097\n",
      "Epoch 94/100\n",
      "306/306 [==============================] - 0s 1ms/step - loss: 0.2808 - accuracy: 0.9377 - val_loss: 0.3722 - val_accuracy: 0.9068\n",
      "Epoch 95/100\n",
      "306/306 [==============================] - 0s 1ms/step - loss: 0.2800 - accuracy: 0.9388 - val_loss: 0.3643 - val_accuracy: 0.9132\n",
      "Epoch 96/100\n",
      "306/306 [==============================] - 0s 1ms/step - loss: 0.2817 - accuracy: 0.9368 - val_loss: 0.3651 - val_accuracy: 0.9108\n",
      "Epoch 97/100\n",
      "306/306 [==============================] - 0s 1ms/step - loss: 0.2813 - accuracy: 0.9381 - val_loss: 0.3663 - val_accuracy: 0.9119\n",
      "Epoch 98/100\n",
      "306/306 [==============================] - 0s 1ms/step - loss: 0.2800 - accuracy: 0.9388 - val_loss: 0.3636 - val_accuracy: 0.9133\n",
      "Epoch 99/100\n",
      "306/306 [==============================] - 0s 1ms/step - loss: 0.2784 - accuracy: 0.9383 - val_loss: 0.3651 - val_accuracy: 0.9119\n",
      "Epoch 100/100\n",
      "306/306 [==============================] - 0s 1ms/step - loss: 0.2777 - accuracy: 0.9388 - val_loss: 0.3798 - val_accuracy: 0.9047\n"
     ]
    },
    {
     "data": {
      "text/plain": [
       "<keras.callbacks.History at 0x7fb7df048f10>"
      ]
     },
     "execution_count": 281,
     "metadata": {},
     "output_type": "execute_result"
    }
   ],
   "source": [
    "xtrain = np.array(Xtrain_scaled_wb)\n",
    "ytrain = np.array(ytrain_map).reshape(-1,1)\n",
    "\n",
    "xvalid = np.array(Xvalid_scaled_wb)\n",
    "yvalid = np.array(yvalid_map).reshape(-1,1)\n",
    "\n",
    "nn = tf.keras.Sequential()\n",
    "nn.add(tf.keras.Input(shape = (xtrain.shape[1],)))\n",
    "nn.add(tf.keras.layers.Dense(40,activation = \"sigmoid\",kernel_regularizer=tf.keras.regularizers.l2(0.001)))\n",
    "nn.add(tf.keras.layers.Dense(40,activation = \"sigmoid\",kernel_regularizer=tf.keras.regularizers.l2(0.001)))\n",
    "nn.add(tf.keras.layers.Dense(4))\n",
    "print(nn.summary())\n",
    "\n",
    "opti =  tf.keras.optimizers.Adam(learning_rate = 0.001)\n",
    "nn.compile(optimizer =opti, loss=tf.keras.losses.SparseCategoricalCrossentropy(from_logits=True), metrics = ['accuracy'])\n",
    "\n",
    "nn.fit(xtrain, ytrain, batch_size = 128,epochs = 100, validation_data = (xvalid,yvalid))"
   ]
  },
  {
   "cell_type": "code",
   "execution_count": 237,
   "metadata": {
    "scrolled": true
   },
   "outputs": [
    {
     "name": "stdout",
     "output_type": "stream",
     "text": [
      "              precision    recall  f1-score   support\n",
      "\n",
      "           1       0.89      0.91      0.90      2777\n",
      "           2       0.87      0.89      0.88      1369\n",
      "           3       0.94      0.93      0.93      3627\n",
      "           4       0.88      0.87      0.88      1997\n",
      "\n",
      "    accuracy                           0.91      9770\n",
      "   macro avg       0.90      0.90      0.90      9770\n",
      "weighted avg       0.91      0.91      0.91      9770\n",
      "\n"
     ]
    }
   ],
   "source": [
    "pred_nn = predict_nn(nn,Xvalid_scaled_wb)\n",
    "print(classification_report(valid_df.iloc[:,0],pred_nn))"
   ]
  },
  {
   "cell_type": "code",
   "execution_count": 282,
   "metadata": {
    "scrolled": true
   },
   "outputs": [
    {
     "name": "stdout",
     "output_type": "stream",
     "text": [
      "              precision    recall  f1-score   support\n",
      "\n",
      "           1       0.73      0.69      0.71       750\n",
      "           2       0.67      0.57      0.62       750\n",
      "           3       0.69      0.82      0.75       750\n",
      "           4       0.81      0.83      0.82       750\n",
      "\n",
      "    accuracy                           0.73      3000\n",
      "   macro avg       0.73      0.73      0.72      3000\n",
      "weighted avg       0.73      0.73      0.72      3000\n",
      "\n"
     ]
    }
   ],
   "source": [
    "pred_nn = predict_nn(nn,Xtest_scaled_wb)\n",
    "print(classification_report(test_vec.iloc[:,0],pred_nn))"
   ]
  },
  {
   "cell_type": "code",
   "execution_count": 336,
   "metadata": {
    "scrolled": true
   },
   "outputs": [
    {
     "name": "stdout",
     "output_type": "stream",
     "text": [
      "Model: \"sequential_74\"\n",
      "_________________________________________________________________\n",
      " Layer (type)                Output Shape              Param #   \n",
      "=================================================================\n",
      " dense_222 (Dense)           (None, 40)                12040     \n",
      "                                                                 \n",
      " dense_223 (Dense)           (None, 40)                1640      \n",
      "                                                                 \n",
      " dense_224 (Dense)           (None, 4)                 164       \n",
      "                                                                 \n",
      "=================================================================\n",
      "Total params: 13,844\n",
      "Trainable params: 13,844\n",
      "Non-trainable params: 0\n",
      "_________________________________________________________________\n",
      "None\n",
      "Epoch 1/100\n",
      "382/382 [==============================] - 1s 1ms/step - loss: 0.8162 - accuracy: 0.7577\n",
      "Epoch 2/100\n",
      "382/382 [==============================] - 0s 1ms/step - loss: 0.5249 - accuracy: 0.8613\n",
      "Epoch 3/100\n",
      "382/382 [==============================] - 0s 1ms/step - loss: 0.4839 - accuracy: 0.8698\n",
      "Epoch 4/100\n",
      "382/382 [==============================] - 0s 1ms/step - loss: 0.4623 - accuracy: 0.8734\n",
      "Epoch 5/100\n",
      "382/382 [==============================] - 0s 1ms/step - loss: 0.4491 - accuracy: 0.8760\n",
      "Epoch 6/100\n",
      "382/382 [==============================] - 0s 1ms/step - loss: 0.4371 - accuracy: 0.8792\n",
      "Epoch 7/100\n",
      "382/382 [==============================] - 0s 1ms/step - loss: 0.4293 - accuracy: 0.8809\n",
      "Epoch 8/100\n",
      "382/382 [==============================] - 0s 1ms/step - loss: 0.4220 - accuracy: 0.8825\n",
      "Epoch 9/100\n",
      "382/382 [==============================] - 0s 1ms/step - loss: 0.4147 - accuracy: 0.8851\n",
      "Epoch 10/100\n",
      "382/382 [==============================] - 0s 1ms/step - loss: 0.4091 - accuracy: 0.8873\n",
      "Epoch 11/100\n",
      "382/382 [==============================] - 0s 1ms/step - loss: 0.4030 - accuracy: 0.8891\n",
      "Epoch 12/100\n",
      "382/382 [==============================] - 0s 1ms/step - loss: 0.3984 - accuracy: 0.8902\n",
      "Epoch 13/100\n",
      "382/382 [==============================] - 0s 1ms/step - loss: 0.3938 - accuracy: 0.8911\n",
      "Epoch 14/100\n",
      "382/382 [==============================] - 0s 1ms/step - loss: 0.3896 - accuracy: 0.8930\n",
      "Epoch 15/100\n",
      "382/382 [==============================] - 0s 1ms/step - loss: 0.3855 - accuracy: 0.8950\n",
      "Epoch 16/100\n",
      "382/382 [==============================] - 0s 1ms/step - loss: 0.3811 - accuracy: 0.8967\n",
      "Epoch 17/100\n",
      "382/382 [==============================] - 0s 1ms/step - loss: 0.3782 - accuracy: 0.8978\n",
      "Epoch 18/100\n",
      "382/382 [==============================] - 0s 1ms/step - loss: 0.3744 - accuracy: 0.8991\n",
      "Epoch 19/100\n",
      "382/382 [==============================] - 0s 1ms/step - loss: 0.3714 - accuracy: 0.9009\n",
      "Epoch 20/100\n",
      "382/382 [==============================] - 0s 1ms/step - loss: 0.3684 - accuracy: 0.9013\n",
      "Epoch 21/100\n",
      "382/382 [==============================] - 0s 1ms/step - loss: 0.3652 - accuracy: 0.9025\n",
      "Epoch 22/100\n",
      "382/382 [==============================] - 0s 1ms/step - loss: 0.3619 - accuracy: 0.9050\n",
      "Epoch 23/100\n",
      "382/382 [==============================] - 0s 1ms/step - loss: 0.3599 - accuracy: 0.9042\n",
      "Epoch 24/100\n",
      "382/382 [==============================] - 0s 1ms/step - loss: 0.3567 - accuracy: 0.9058\n",
      "Epoch 25/100\n",
      "382/382 [==============================] - 0s 1ms/step - loss: 0.3554 - accuracy: 0.9070\n",
      "Epoch 26/100\n",
      "382/382 [==============================] - 0s 1ms/step - loss: 0.3521 - accuracy: 0.9082\n",
      "Epoch 27/100\n",
      "382/382 [==============================] - 0s 1ms/step - loss: 0.3505 - accuracy: 0.9083\n",
      "Epoch 28/100\n",
      "382/382 [==============================] - 0s 1ms/step - loss: 0.3482 - accuracy: 0.9086\n",
      "Epoch 29/100\n",
      "382/382 [==============================] - 0s 1ms/step - loss: 0.3457 - accuracy: 0.9099\n",
      "Epoch 30/100\n",
      "382/382 [==============================] - 0s 1ms/step - loss: 0.3436 - accuracy: 0.9109\n",
      "Epoch 31/100\n",
      "382/382 [==============================] - 0s 1ms/step - loss: 0.3414 - accuracy: 0.9123\n",
      "Epoch 32/100\n",
      "382/382 [==============================] - 0s 1ms/step - loss: 0.3401 - accuracy: 0.9124\n",
      "Epoch 33/100\n",
      "382/382 [==============================] - 0s 1ms/step - loss: 0.3394 - accuracy: 0.9132\n",
      "Epoch 34/100\n",
      "382/382 [==============================] - 0s 1ms/step - loss: 0.3368 - accuracy: 0.9140\n",
      "Epoch 35/100\n",
      "382/382 [==============================] - 0s 1ms/step - loss: 0.3338 - accuracy: 0.9155\n",
      "Epoch 36/100\n",
      "382/382 [==============================] - 0s 1ms/step - loss: 0.3329 - accuracy: 0.9156\n",
      "Epoch 37/100\n",
      "382/382 [==============================] - 0s 1ms/step - loss: 0.3309 - accuracy: 0.9173\n",
      "Epoch 38/100\n",
      "382/382 [==============================] - 0s 1ms/step - loss: 0.3288 - accuracy: 0.9169\n",
      "Epoch 39/100\n",
      "382/382 [==============================] - 0s 1ms/step - loss: 0.3282 - accuracy: 0.9171\n",
      "Epoch 40/100\n",
      "382/382 [==============================] - 0s 1ms/step - loss: 0.3260 - accuracy: 0.9178\n",
      "Epoch 41/100\n",
      "382/382 [==============================] - 0s 1ms/step - loss: 0.3252 - accuracy: 0.9187\n",
      "Epoch 42/100\n",
      "382/382 [==============================] - 0s 1ms/step - loss: 0.3239 - accuracy: 0.9180\n",
      "Epoch 43/100\n",
      "382/382 [==============================] - 0s 1ms/step - loss: 0.3218 - accuracy: 0.9193\n",
      "Epoch 44/100\n",
      "382/382 [==============================] - 0s 1ms/step - loss: 0.3209 - accuracy: 0.9202\n",
      "Epoch 45/100\n",
      "382/382 [==============================] - 0s 1ms/step - loss: 0.3200 - accuracy: 0.9203\n",
      "Epoch 46/100\n",
      "382/382 [==============================] - 0s 1ms/step - loss: 0.3176 - accuracy: 0.9210\n",
      "Epoch 47/100\n",
      "382/382 [==============================] - 0s 1ms/step - loss: 0.3165 - accuracy: 0.9220\n",
      "Epoch 48/100\n",
      "382/382 [==============================] - 0s 1ms/step - loss: 0.3147 - accuracy: 0.9221\n",
      "Epoch 49/100\n",
      "382/382 [==============================] - 0s 1ms/step - loss: 0.3144 - accuracy: 0.9227\n",
      "Epoch 50/100\n",
      "382/382 [==============================] - 0s 1ms/step - loss: 0.3123 - accuracy: 0.9235\n",
      "Epoch 51/100\n",
      "382/382 [==============================] - 0s 1ms/step - loss: 0.3122 - accuracy: 0.9231\n",
      "Epoch 52/100\n",
      "382/382 [==============================] - 0s 1ms/step - loss: 0.3096 - accuracy: 0.9257\n",
      "Epoch 53/100\n",
      "382/382 [==============================] - 0s 1ms/step - loss: 0.3093 - accuracy: 0.9238\n",
      "Epoch 54/100\n",
      "382/382 [==============================] - 0s 1ms/step - loss: 0.3079 - accuracy: 0.9258\n",
      "Epoch 55/100\n",
      "382/382 [==============================] - 0s 1ms/step - loss: 0.3070 - accuracy: 0.9261\n",
      "Epoch 56/100\n",
      "382/382 [==============================] - 0s 1ms/step - loss: 0.3059 - accuracy: 0.9258\n",
      "Epoch 57/100\n",
      "382/382 [==============================] - 0s 1ms/step - loss: 0.3046 - accuracy: 0.9266\n",
      "Epoch 58/100\n",
      "382/382 [==============================] - 0s 1ms/step - loss: 0.3046 - accuracy: 0.9260\n",
      "Epoch 59/100\n",
      "382/382 [==============================] - 0s 1ms/step - loss: 0.3026 - accuracy: 0.9278\n",
      "Epoch 60/100\n",
      "382/382 [==============================] - 0s 1ms/step - loss: 0.3014 - accuracy: 0.9272\n",
      "Epoch 61/100\n",
      "382/382 [==============================] - 0s 1ms/step - loss: 0.3005 - accuracy: 0.9281\n",
      "Epoch 62/100\n",
      "382/382 [==============================] - 0s 1ms/step - loss: 0.3001 - accuracy: 0.9273\n",
      "Epoch 63/100\n",
      "382/382 [==============================] - 0s 1ms/step - loss: 0.2986 - accuracy: 0.9299\n",
      "Epoch 64/100\n",
      "382/382 [==============================] - 0s 1ms/step - loss: 0.2989 - accuracy: 0.9286\n",
      "Epoch 65/100\n",
      "382/382 [==============================] - 0s 1ms/step - loss: 0.2985 - accuracy: 0.9288\n",
      "Epoch 66/100\n",
      "382/382 [==============================] - 0s 1ms/step - loss: 0.2972 - accuracy: 0.9294\n",
      "Epoch 67/100\n",
      "382/382 [==============================] - 0s 1ms/step - loss: 0.2948 - accuracy: 0.9304\n",
      "Epoch 68/100\n",
      "382/382 [==============================] - 0s 1ms/step - loss: 0.2958 - accuracy: 0.9290\n",
      "Epoch 69/100\n",
      "382/382 [==============================] - 0s 1ms/step - loss: 0.2940 - accuracy: 0.9310\n",
      "Epoch 70/100\n",
      "382/382 [==============================] - 0s 1ms/step - loss: 0.2925 - accuracy: 0.9319\n",
      "Epoch 71/100\n",
      "382/382 [==============================] - 0s 1ms/step - loss: 0.2915 - accuracy: 0.9309\n",
      "Epoch 72/100\n",
      "382/382 [==============================] - 0s 1ms/step - loss: 0.2916 - accuracy: 0.9313\n",
      "Epoch 73/100\n",
      "382/382 [==============================] - 0s 1ms/step - loss: 0.2914 - accuracy: 0.9308\n",
      "Epoch 74/100\n",
      "382/382 [==============================] - 0s 1ms/step - loss: 0.2890 - accuracy: 0.9320\n",
      "Epoch 75/100\n",
      "382/382 [==============================] - 0s 1ms/step - loss: 0.2892 - accuracy: 0.9316\n",
      "Epoch 76/100\n",
      "382/382 [==============================] - 0s 1ms/step - loss: 0.2877 - accuracy: 0.9331\n",
      "Epoch 77/100\n",
      "382/382 [==============================] - 0s 1ms/step - loss: 0.2872 - accuracy: 0.9326\n",
      "Epoch 78/100\n",
      "382/382 [==============================] - 0s 1ms/step - loss: 0.2867 - accuracy: 0.9327\n",
      "Epoch 79/100\n",
      "382/382 [==============================] - 0s 1ms/step - loss: 0.2866 - accuracy: 0.9329\n",
      "Epoch 80/100\n",
      "382/382 [==============================] - 0s 1ms/step - loss: 0.2852 - accuracy: 0.9333\n",
      "Epoch 81/100\n",
      "382/382 [==============================] - 0s 1ms/step - loss: 0.2853 - accuracy: 0.9331\n",
      "Epoch 82/100\n",
      "382/382 [==============================] - 0s 1ms/step - loss: 0.2843 - accuracy: 0.9339\n",
      "Epoch 83/100\n",
      "382/382 [==============================] - 0s 1ms/step - loss: 0.2836 - accuracy: 0.9339\n",
      "Epoch 84/100\n",
      "382/382 [==============================] - 0s 1ms/step - loss: 0.2826 - accuracy: 0.9335\n",
      "Epoch 85/100\n",
      "382/382 [==============================] - 0s 1ms/step - loss: 0.2824 - accuracy: 0.9352\n",
      "Epoch 86/100\n",
      "382/382 [==============================] - 0s 1ms/step - loss: 0.2823 - accuracy: 0.9336\n",
      "Epoch 87/100\n",
      "382/382 [==============================] - 0s 1ms/step - loss: 0.2801 - accuracy: 0.9361\n",
      "Epoch 88/100\n",
      "382/382 [==============================] - 0s 1ms/step - loss: 0.2798 - accuracy: 0.9364\n",
      "Epoch 89/100\n",
      "382/382 [==============================] - 0s 1ms/step - loss: 0.2796 - accuracy: 0.9358\n",
      "Epoch 90/100\n",
      "382/382 [==============================] - 0s 1ms/step - loss: 0.2784 - accuracy: 0.9355\n",
      "Epoch 91/100\n",
      "382/382 [==============================] - 0s 1ms/step - loss: 0.2783 - accuracy: 0.9359\n",
      "Epoch 92/100\n",
      "382/382 [==============================] - 0s 1ms/step - loss: 0.2779 - accuracy: 0.9361\n",
      "Epoch 93/100\n",
      "382/382 [==============================] - 0s 1ms/step - loss: 0.2778 - accuracy: 0.9372\n",
      "Epoch 94/100\n",
      "382/382 [==============================] - 0s 1ms/step - loss: 0.2774 - accuracy: 0.9365\n",
      "Epoch 95/100\n",
      "382/382 [==============================] - 0s 1ms/step - loss: 0.2759 - accuracy: 0.9374\n",
      "Epoch 96/100\n",
      "382/382 [==============================] - 0s 1ms/step - loss: 0.2752 - accuracy: 0.9372\n",
      "Epoch 97/100\n",
      "382/382 [==============================] - 0s 1ms/step - loss: 0.2748 - accuracy: 0.9368\n",
      "Epoch 98/100\n",
      "382/382 [==============================] - 0s 1ms/step - loss: 0.2749 - accuracy: 0.9376\n",
      "Epoch 99/100\n",
      "382/382 [==============================] - 0s 1ms/step - loss: 0.2745 - accuracy: 0.9373\n",
      "Epoch 100/100\n",
      "382/382 [==============================] - 0s 1ms/step - loss: 0.2734 - accuracy: 0.9379\n"
     ]
    },
    {
     "data": {
      "text/plain": [
       "<keras.callbacks.History at 0x7fb7f279f6d0>"
      ]
     },
     "execution_count": 336,
     "metadata": {},
     "output_type": "execute_result"
    }
   ],
   "source": [
    "# Train with both Train and Validation set\n",
    "nn = tf.keras.Sequential()\n",
    "nn.add(tf.keras.Input(shape = (xtrain.shape[1],)))\n",
    "nn.add(tf.keras.layers.Dense(40,activation = \"sigmoid\",kernel_regularizer=tf.keras.regularizers.l2(0.001)))\n",
    "nn.add(tf.keras.layers.Dense(40,activation = \"sigmoid\",kernel_regularizer=tf.keras.regularizers.l2(0.001)))\n",
    "nn.add(tf.keras.layers.Dense(4))\n",
    "print(nn.summary())\n",
    "\n",
    "opti =  tf.keras.optimizers.Adam(learning_rate = 0.001)\n",
    "nn.compile(optimizer =opti, loss=tf.keras.losses.SparseCategoricalCrossentropy(from_logits=True), metrics = ['accuracy'])\n",
    "\n",
    "nn.fit(np.array(pd.concat([Xtrain_scaled_wb,Xvalid_scaled_wb])), np.array(ytrain_map + yvalid_map).reshape(-1,1), batch_size = 128,epochs = 100)"
   ]
  },
  {
   "cell_type": "code",
   "execution_count": 337,
   "metadata": {},
   "outputs": [
    {
     "name": "stdout",
     "output_type": "stream",
     "text": [
      "              precision    recall  f1-score   support\n",
      "\n",
      "           1       0.72      0.74      0.73       750\n",
      "           2       0.71      0.51      0.59       750\n",
      "           3       0.68      0.89      0.77       750\n",
      "           4       0.87      0.81      0.84       750\n",
      "\n",
      "    accuracy                           0.74      3000\n",
      "   macro avg       0.74      0.74      0.73      3000\n",
      "weighted avg       0.74      0.74      0.73      3000\n",
      "\n"
     ]
    }
   ],
   "source": [
    "pred_nn = predict_nn(nn,Xtest_scaled_wb)\n",
    "print(classification_report(test_vec.iloc[:,0],pred_nn))\n"
   ]
  },
  {
   "cell_type": "code",
   "execution_count": 280,
   "metadata": {},
   "outputs": [
    {
     "name": "stdout",
     "output_type": "stream",
     "text": [
      "INFO:tensorflow:Assets written to: glove300_weights_acc=0.74_f1=0.73/assets\n"
     ]
    }
   ],
   "source": [
    "# save weights\n",
    "nn.save(\"glove300_weights_acc=0.74_f1=0.73\")"
   ]
  },
  {
   "cell_type": "markdown",
   "metadata": {},
   "source": [
    "### Word embeddings + features"
   ]
  },
  {
   "cell_type": "code",
   "execution_count": 339,
   "metadata": {
    "scrolled": false
   },
   "outputs": [
    {
     "name": "stderr",
     "output_type": "stream",
     "text": [
      "/Users/admin/opt/miniconda3/lib/python3.9/site-packages/sklearn/utils/validation.py:1688: FutureWarning: Feature names only support names that are all strings. Got feature names with dtypes: ['int', 'str']. An error will be raised in 1.2.\n",
      "  warnings.warn(\n",
      "/Users/admin/opt/miniconda3/lib/python3.9/site-packages/sklearn/utils/validation.py:1688: FutureWarning: Feature names only support names that are all strings. Got feature names with dtypes: ['int', 'str']. An error will be raised in 1.2.\n",
      "  warnings.warn(\n",
      "/Users/admin/opt/miniconda3/lib/python3.9/site-packages/sklearn/utils/validation.py:1688: FutureWarning: Feature names only support names that are all strings. Got feature names with dtypes: ['int', 'str']. An error will be raised in 1.2.\n",
      "  warnings.warn(\n",
      "/Users/admin/opt/miniconda3/lib/python3.9/site-packages/sklearn/utils/validation.py:1688: FutureWarning: Feature names only support names that are all strings. Got feature names with dtypes: ['int', 'str']. An error will be raised in 1.2.\n",
      "  warnings.warn(\n"
     ]
    }
   ],
   "source": [
    "scaler = StandardScaler().fit(train_df.iloc[:,3:])\n",
    "Xtrain_scaled_both = pd.DataFrame(scaler.transform(train_df.iloc[:,3:]))\n",
    "Xvalid_scaled_both = pd.DataFrame(scaler.transform(valid_df.iloc[:,3:]))\n",
    "Xtest_scaled_both = pd.DataFrame(scaler.transform(test_vec.iloc[:,3:]))"
   ]
  },
  {
   "cell_type": "code",
   "execution_count": 353,
   "metadata": {
    "scrolled": true
   },
   "outputs": [
    {
     "name": "stdout",
     "output_type": "stream",
     "text": [
      "Model: \"sequential_81\"\n",
      "_________________________________________________________________\n",
      " Layer (type)                Output Shape              Param #   \n",
      "=================================================================\n",
      " dense_243 (Dense)           (None, 20)                6140      \n",
      "                                                                 \n",
      " dense_244 (Dense)           (None, 20)                420       \n",
      "                                                                 \n",
      " dense_245 (Dense)           (None, 4)                 84        \n",
      "                                                                 \n",
      "=================================================================\n",
      "Total params: 6,644\n",
      "Trainable params: 6,644\n",
      "Non-trainable params: 0\n",
      "_________________________________________________________________\n",
      "None\n",
      "Epoch 1/50\n",
      "306/306 [==============================] - 1s 2ms/step - loss: 1.3352 - accuracy: 0.6209 - val_loss: 1.0439 - val_accuracy: 0.7426\n",
      "Epoch 2/50\n",
      "306/306 [==============================] - 0s 1ms/step - loss: 0.9573 - accuracy: 0.7843 - val_loss: 0.8662 - val_accuracy: 0.8375\n",
      "Epoch 3/50\n",
      "306/306 [==============================] - 0s 1ms/step - loss: 0.8377 - accuracy: 0.8381 - val_loss: 0.7791 - val_accuracy: 0.8554\n",
      "Epoch 4/50\n",
      "306/306 [==============================] - 0s 1ms/step - loss: 0.7702 - accuracy: 0.8539 - val_loss: 0.7273 - val_accuracy: 0.8710\n",
      "Epoch 5/50\n",
      "306/306 [==============================] - 0s 1ms/step - loss: 0.7258 - accuracy: 0.8615 - val_loss: 0.6918 - val_accuracy: 0.8745\n",
      "Epoch 6/50\n",
      "306/306 [==============================] - 0s 1ms/step - loss: 0.6929 - accuracy: 0.8667 - val_loss: 0.6587 - val_accuracy: 0.8767\n",
      "Epoch 7/50\n",
      "306/306 [==============================] - 0s 1ms/step - loss: 0.6675 - accuracy: 0.8693 - val_loss: 0.6368 - val_accuracy: 0.8815\n",
      "Epoch 8/50\n",
      "306/306 [==============================] - 0s 1ms/step - loss: 0.6466 - accuracy: 0.8726 - val_loss: 0.6190 - val_accuracy: 0.8808\n",
      "Epoch 9/50\n",
      "306/306 [==============================] - 0s 1ms/step - loss: 0.6291 - accuracy: 0.8745 - val_loss: 0.6038 - val_accuracy: 0.8850\n",
      "Epoch 10/50\n",
      "306/306 [==============================] - 0s 1ms/step - loss: 0.6148 - accuracy: 0.8761 - val_loss: 0.5905 - val_accuracy: 0.8859\n",
      "Epoch 11/50\n",
      "306/306 [==============================] - 0s 1ms/step - loss: 0.6016 - accuracy: 0.8788 - val_loss: 0.5782 - val_accuracy: 0.8906\n",
      "Epoch 12/50\n",
      "306/306 [==============================] - 0s 1ms/step - loss: 0.5909 - accuracy: 0.8781 - val_loss: 0.5705 - val_accuracy: 0.8881\n",
      "Epoch 13/50\n",
      "306/306 [==============================] - 0s 1ms/step - loss: 0.5815 - accuracy: 0.8797 - val_loss: 0.5584 - val_accuracy: 0.8912\n",
      "Epoch 14/50\n",
      "306/306 [==============================] - 0s 1ms/step - loss: 0.5732 - accuracy: 0.8806 - val_loss: 0.5490 - val_accuracy: 0.8885\n",
      "Epoch 15/50\n",
      "306/306 [==============================] - 0s 1ms/step - loss: 0.5653 - accuracy: 0.8823 - val_loss: 0.5429 - val_accuracy: 0.8910\n",
      "Epoch 16/50\n",
      "306/306 [==============================] - 0s 1ms/step - loss: 0.5580 - accuracy: 0.8833 - val_loss: 0.5391 - val_accuracy: 0.8881\n",
      "Epoch 17/50\n",
      "306/306 [==============================] - 0s 1ms/step - loss: 0.5521 - accuracy: 0.8825 - val_loss: 0.5346 - val_accuracy: 0.8894\n",
      "Epoch 18/50\n",
      "306/306 [==============================] - 0s 1ms/step - loss: 0.5463 - accuracy: 0.8853 - val_loss: 0.5332 - val_accuracy: 0.8864\n",
      "Epoch 19/50\n",
      "306/306 [==============================] - 0s 1ms/step - loss: 0.5413 - accuracy: 0.8842 - val_loss: 0.5196 - val_accuracy: 0.8956\n",
      "Epoch 20/50\n",
      "306/306 [==============================] - 0s 1ms/step - loss: 0.5362 - accuracy: 0.8850 - val_loss: 0.5185 - val_accuracy: 0.8961\n",
      "Epoch 21/50\n",
      "306/306 [==============================] - 0s 1ms/step - loss: 0.5321 - accuracy: 0.8849 - val_loss: 0.5123 - val_accuracy: 0.8973\n",
      "Epoch 22/50\n",
      "306/306 [==============================] - 0s 1ms/step - loss: 0.5274 - accuracy: 0.8863 - val_loss: 0.5069 - val_accuracy: 0.8953\n",
      "Epoch 23/50\n",
      "306/306 [==============================] - 0s 1ms/step - loss: 0.5233 - accuracy: 0.8864 - val_loss: 0.5038 - val_accuracy: 0.8970\n",
      "Epoch 24/50\n",
      "306/306 [==============================] - 0s 1ms/step - loss: 0.5200 - accuracy: 0.8879 - val_loss: 0.4999 - val_accuracy: 0.8961\n",
      "Epoch 25/50\n",
      "306/306 [==============================] - 0s 1ms/step - loss: 0.5163 - accuracy: 0.8869 - val_loss: 0.4974 - val_accuracy: 0.8980\n",
      "Epoch 26/50\n",
      "306/306 [==============================] - 0s 1ms/step - loss: 0.5129 - accuracy: 0.8885 - val_loss: 0.4972 - val_accuracy: 0.8943\n",
      "Epoch 27/50\n",
      "306/306 [==============================] - 0s 1ms/step - loss: 0.5101 - accuracy: 0.8896 - val_loss: 0.4979 - val_accuracy: 0.8944\n",
      "Epoch 28/50\n",
      "306/306 [==============================] - 0s 1ms/step - loss: 0.5074 - accuracy: 0.8899 - val_loss: 0.4885 - val_accuracy: 0.8964\n",
      "Epoch 29/50\n",
      "306/306 [==============================] - 0s 1ms/step - loss: 0.5045 - accuracy: 0.8891 - val_loss: 0.4852 - val_accuracy: 0.8974\n",
      "Epoch 30/50\n",
      "306/306 [==============================] - 0s 1ms/step - loss: 0.5015 - accuracy: 0.8890 - val_loss: 0.4825 - val_accuracy: 0.9003\n",
      "Epoch 31/50\n",
      "306/306 [==============================] - 0s 1ms/step - loss: 0.4987 - accuracy: 0.8907 - val_loss: 0.4796 - val_accuracy: 0.8995\n",
      "Epoch 32/50\n",
      "306/306 [==============================] - 0s 1ms/step - loss: 0.4964 - accuracy: 0.8908 - val_loss: 0.4802 - val_accuracy: 0.8997\n",
      "Epoch 33/50\n",
      "306/306 [==============================] - 0s 1ms/step - loss: 0.4938 - accuracy: 0.8909 - val_loss: 0.4771 - val_accuracy: 0.9003\n",
      "Epoch 34/50\n",
      "306/306 [==============================] - 0s 1ms/step - loss: 0.4923 - accuracy: 0.8912 - val_loss: 0.4740 - val_accuracy: 0.9003\n",
      "Epoch 35/50\n",
      "306/306 [==============================] - 0s 1ms/step - loss: 0.4889 - accuracy: 0.8917 - val_loss: 0.4742 - val_accuracy: 0.8960\n",
      "Epoch 36/50\n",
      "306/306 [==============================] - 0s 1ms/step - loss: 0.4888 - accuracy: 0.8922 - val_loss: 0.4697 - val_accuracy: 0.9003\n",
      "Epoch 37/50\n",
      "306/306 [==============================] - 0s 1ms/step - loss: 0.4857 - accuracy: 0.8929 - val_loss: 0.4696 - val_accuracy: 0.8986\n",
      "Epoch 38/50\n",
      "306/306 [==============================] - 0s 1ms/step - loss: 0.4832 - accuracy: 0.8933 - val_loss: 0.4675 - val_accuracy: 0.8962\n",
      "Epoch 39/50\n",
      "306/306 [==============================] - 0s 1ms/step - loss: 0.4827 - accuracy: 0.8935 - val_loss: 0.4678 - val_accuracy: 0.8986\n",
      "Epoch 40/50\n",
      "306/306 [==============================] - 0s 1ms/step - loss: 0.4796 - accuracy: 0.8931 - val_loss: 0.4640 - val_accuracy: 0.8991\n",
      "Epoch 41/50\n",
      "306/306 [==============================] - 0s 1ms/step - loss: 0.4787 - accuracy: 0.8935 - val_loss: 0.4606 - val_accuracy: 0.9020\n",
      "Epoch 42/50\n",
      "306/306 [==============================] - 0s 1ms/step - loss: 0.4761 - accuracy: 0.8951 - val_loss: 0.4598 - val_accuracy: 0.9023\n",
      "Epoch 43/50\n",
      "306/306 [==============================] - 0s 1ms/step - loss: 0.4751 - accuracy: 0.8937 - val_loss: 0.4610 - val_accuracy: 0.9025\n",
      "Epoch 44/50\n",
      "306/306 [==============================] - 0s 1ms/step - loss: 0.4736 - accuracy: 0.8948 - val_loss: 0.4583 - val_accuracy: 0.9015\n",
      "Epoch 45/50\n",
      "306/306 [==============================] - 0s 1ms/step - loss: 0.4712 - accuracy: 0.8956 - val_loss: 0.4622 - val_accuracy: 0.9010\n",
      "Epoch 46/50\n",
      "306/306 [==============================] - 0s 1ms/step - loss: 0.4706 - accuracy: 0.8955 - val_loss: 0.4534 - val_accuracy: 0.9038\n",
      "Epoch 47/50\n",
      "306/306 [==============================] - 0s 1ms/step - loss: 0.4680 - accuracy: 0.8971 - val_loss: 0.4543 - val_accuracy: 0.9036\n",
      "Epoch 48/50\n",
      "306/306 [==============================] - 0s 1ms/step - loss: 0.4671 - accuracy: 0.8967 - val_loss: 0.4561 - val_accuracy: 0.9021\n",
      "Epoch 49/50\n",
      "306/306 [==============================] - 0s 1ms/step - loss: 0.4655 - accuracy: 0.8970 - val_loss: 0.4528 - val_accuracy: 0.9010\n",
      "Epoch 50/50\n",
      "306/306 [==============================] - 0s 1ms/step - loss: 0.4647 - accuracy: 0.8946 - val_loss: 0.4507 - val_accuracy: 0.9023\n"
     ]
    },
    {
     "data": {
      "text/plain": [
       "<keras.callbacks.History at 0x7fb7d2eae070>"
      ]
     },
     "execution_count": 353,
     "metadata": {},
     "output_type": "execute_result"
    }
   ],
   "source": [
    "xtrain = np.array(Xtrain_scaled_both)\n",
    "ytrain = np.array(ytrain_map).reshape(-1,1)\n",
    "\n",
    "xvalid = np.array(Xvalid_scaled_both)\n",
    "yvalid = np.array(yvalid_map).reshape(-1,1)\n",
    "\n",
    "nn = tf.keras.Sequential()\n",
    "nn.add(tf.keras.Input(shape = (xtrain.shape[1],)))\n",
    "nn.add(tf.keras.layers.Dense(20,activation = \"sigmoid\",kernel_regularizer=tf.keras.regularizers.l2(0.01)))\n",
    "nn.add(tf.keras.layers.Dense(20,activation = \"sigmoid\",kernel_regularizer=tf.keras.regularizers.l2(0.01)))\n",
    "nn.add(tf.keras.layers.Dense(4))\n",
    "print(nn.summary())\n",
    "\n",
    "opti =  tf.keras.optimizers.Adam(learning_rate = 0.001)\n",
    "nn.compile(optimizer =opti, loss=tf.keras.losses.SparseCategoricalCrossentropy(from_logits=True), metrics = ['accuracy'])\n",
    "\n",
    "nn.fit(xtrain, ytrain, batch_size = 128,epochs = 50, validation_data = (xvalid,yvalid))"
   ]
  },
  {
   "cell_type": "code",
   "execution_count": 354,
   "metadata": {},
   "outputs": [
    {
     "name": "stdout",
     "output_type": "stream",
     "text": [
      "              precision    recall  f1-score   support\n",
      "\n",
      "           1       0.62      0.71      0.66       750\n",
      "           2       0.61      0.38      0.47       750\n",
      "           3       0.48      0.57      0.52       750\n",
      "           4       0.73      0.78      0.76       750\n",
      "\n",
      "    accuracy                           0.61      3000\n",
      "   macro avg       0.61      0.61      0.60      3000\n",
      "weighted avg       0.61      0.61      0.60      3000\n",
      "\n"
     ]
    }
   ],
   "source": [
    "pred_nn = predict_nn(nn,Xtest_scaled_both)\n",
    "print(classification_report(test_vec.iloc[:,0],pred_nn))"
   ]
  },
  {
   "cell_type": "code",
   "execution_count": 355,
   "metadata": {
    "scrolled": true
   },
   "outputs": [
    {
     "name": "stdout",
     "output_type": "stream",
     "text": [
      "Model: \"sequential_82\"\n",
      "_________________________________________________________________\n",
      " Layer (type)                Output Shape              Param #   \n",
      "=================================================================\n",
      " dense_246 (Dense)           (None, 20)                6140      \n",
      "                                                                 \n",
      " dense_247 (Dense)           (None, 20)                420       \n",
      "                                                                 \n",
      " dense_248 (Dense)           (None, 4)                 84        \n",
      "                                                                 \n",
      "=================================================================\n",
      "Total params: 6,644\n",
      "Trainable params: 6,644\n",
      "Non-trainable params: 0\n",
      "_________________________________________________________________\n",
      "None\n",
      "Epoch 1/50\n",
      "382/382 [==============================] - 1s 2ms/step - loss: 1.3657 - accuracy: 0.5881\n",
      "Epoch 2/50\n",
      "382/382 [==============================] - 1s 1ms/step - loss: 0.9531 - accuracy: 0.7907\n",
      "Epoch 3/50\n",
      "382/382 [==============================] - 1s 1ms/step - loss: 0.8306 - accuracy: 0.8290\n",
      "Epoch 4/50\n",
      "382/382 [==============================] - 1s 2ms/step - loss: 0.7628 - accuracy: 0.8451\n",
      "Epoch 5/50\n",
      "382/382 [==============================] - 1s 2ms/step - loss: 0.7157 - accuracy: 0.8569\n",
      "Epoch 6/50\n",
      "382/382 [==============================] - 1s 2ms/step - loss: 0.6790 - accuracy: 0.8650\n",
      "Epoch 7/50\n",
      "382/382 [==============================] - 1s 2ms/step - loss: 0.6516 - accuracy: 0.8696\n",
      "Epoch 8/50\n",
      "382/382 [==============================] - 1s 1ms/step - loss: 0.6286 - accuracy: 0.8742\n",
      "Epoch 9/50\n",
      "382/382 [==============================] - 1s 1ms/step - loss: 0.6103 - accuracy: 0.8768\n",
      "Epoch 10/50\n",
      "382/382 [==============================] - 1s 1ms/step - loss: 0.5954 - accuracy: 0.8784\n",
      "Epoch 11/50\n",
      "382/382 [==============================] - 1s 1ms/step - loss: 0.5828 - accuracy: 0.8798\n",
      "Epoch 12/50\n",
      "382/382 [==============================] - 1s 1ms/step - loss: 0.5706 - accuracy: 0.8818\n",
      "Epoch 13/50\n",
      "382/382 [==============================] - 0s 1ms/step - loss: 0.5611 - accuracy: 0.8836\n",
      "Epoch 14/50\n",
      "382/382 [==============================] - 1s 1ms/step - loss: 0.5527 - accuracy: 0.8839\n",
      "Epoch 15/50\n",
      "382/382 [==============================] - 1s 1ms/step - loss: 0.5445 - accuracy: 0.8853\n",
      "Epoch 16/50\n",
      "382/382 [==============================] - 1s 2ms/step - loss: 0.5379 - accuracy: 0.8866\n",
      "Epoch 17/50\n",
      "382/382 [==============================] - 1s 2ms/step - loss: 0.5315 - accuracy: 0.8861\n",
      "Epoch 18/50\n",
      "382/382 [==============================] - 1s 2ms/step - loss: 0.5258 - accuracy: 0.8883\n",
      "Epoch 19/50\n",
      "382/382 [==============================] - 1s 1ms/step - loss: 0.5201 - accuracy: 0.8892\n",
      "Epoch 20/50\n",
      "382/382 [==============================] - 1s 1ms/step - loss: 0.5158 - accuracy: 0.8890\n",
      "Epoch 21/50\n",
      "382/382 [==============================] - 1s 1ms/step - loss: 0.5122 - accuracy: 0.8892\n",
      "Epoch 22/50\n",
      "382/382 [==============================] - 1s 1ms/step - loss: 0.5077 - accuracy: 0.8899\n",
      "Epoch 23/50\n",
      "382/382 [==============================] - 0s 1ms/step - loss: 0.5032 - accuracy: 0.8912\n",
      "Epoch 24/50\n",
      "382/382 [==============================] - 1s 1ms/step - loss: 0.4995 - accuracy: 0.8915\n",
      "Epoch 25/50\n",
      "382/382 [==============================] - 1s 2ms/step - loss: 0.4966 - accuracy: 0.8916\n",
      "Epoch 26/50\n",
      "382/382 [==============================] - 0s 1ms/step - loss: 0.4933 - accuracy: 0.8928\n",
      "Epoch 27/50\n",
      "382/382 [==============================] - 0s 1ms/step - loss: 0.4899 - accuracy: 0.8932\n",
      "Epoch 28/50\n",
      "382/382 [==============================] - 0s 1ms/step - loss: 0.4876 - accuracy: 0.8930\n",
      "Epoch 29/50\n",
      "382/382 [==============================] - 0s 1ms/step - loss: 0.4843 - accuracy: 0.8933\n",
      "Epoch 30/50\n",
      "382/382 [==============================] - 0s 1ms/step - loss: 0.4831 - accuracy: 0.8951\n",
      "Epoch 31/50\n",
      "382/382 [==============================] - 0s 1ms/step - loss: 0.4805 - accuracy: 0.8943\n",
      "Epoch 32/50\n",
      "382/382 [==============================] - 0s 1ms/step - loss: 0.4776 - accuracy: 0.8939\n",
      "Epoch 33/50\n",
      "382/382 [==============================] - 0s 1ms/step - loss: 0.4755 - accuracy: 0.8948\n",
      "Epoch 34/50\n",
      "382/382 [==============================] - 0s 1ms/step - loss: 0.4731 - accuracy: 0.8961\n",
      "Epoch 35/50\n",
      "382/382 [==============================] - 0s 1ms/step - loss: 0.4716 - accuracy: 0.8952\n",
      "Epoch 36/50\n",
      "382/382 [==============================] - 0s 1ms/step - loss: 0.4689 - accuracy: 0.8954\n",
      "Epoch 37/50\n",
      "382/382 [==============================] - 0s 1ms/step - loss: 0.4680 - accuracy: 0.8961\n",
      "Epoch 38/50\n",
      "382/382 [==============================] - 0s 1ms/step - loss: 0.4661 - accuracy: 0.8957\n",
      "Epoch 39/50\n",
      "382/382 [==============================] - 0s 1ms/step - loss: 0.4639 - accuracy: 0.8965\n",
      "Epoch 40/50\n",
      "382/382 [==============================] - 0s 1ms/step - loss: 0.4623 - accuracy: 0.8970\n",
      "Epoch 41/50\n",
      "382/382 [==============================] - 0s 1ms/step - loss: 0.4610 - accuracy: 0.8981\n",
      "Epoch 42/50\n",
      "382/382 [==============================] - 0s 1ms/step - loss: 0.4598 - accuracy: 0.8970\n",
      "Epoch 43/50\n",
      "382/382 [==============================] - 0s 1ms/step - loss: 0.4576 - accuracy: 0.8980\n",
      "Epoch 44/50\n",
      "382/382 [==============================] - 0s 1ms/step - loss: 0.4562 - accuracy: 0.8981\n",
      "Epoch 45/50\n",
      "382/382 [==============================] - 0s 1ms/step - loss: 0.4539 - accuracy: 0.8994\n",
      "Epoch 46/50\n",
      "382/382 [==============================] - 0s 1ms/step - loss: 0.4531 - accuracy: 0.8986\n",
      "Epoch 47/50\n",
      "382/382 [==============================] - 0s 1ms/step - loss: 0.4518 - accuracy: 0.8983\n",
      "Epoch 48/50\n",
      "382/382 [==============================] - 0s 1ms/step - loss: 0.4507 - accuracy: 0.8990\n",
      "Epoch 49/50\n",
      "382/382 [==============================] - 0s 1ms/step - loss: 0.4493 - accuracy: 0.8995\n",
      "Epoch 50/50\n",
      "382/382 [==============================] - 1s 1ms/step - loss: 0.4479 - accuracy: 0.8998\n"
     ]
    },
    {
     "data": {
      "text/plain": [
       "<keras.callbacks.History at 0x7fb7d2d17be0>"
      ]
     },
     "execution_count": 355,
     "metadata": {},
     "output_type": "execute_result"
    }
   ],
   "source": [
    "# Train on both training and validation set\n",
    "nn = tf.keras.Sequential()\n",
    "nn.add(tf.keras.Input(shape = (Xtrain_scaled_both.shape[1],)))\n",
    "nn.add(tf.keras.layers.Dense(20,activation = \"sigmoid\",kernel_regularizer=tf.keras.regularizers.l2(0.01)))\n",
    "nn.add(tf.keras.layers.Dense(20,activation = \"sigmoid\",kernel_regularizer=tf.keras.regularizers.l2(0.01)))\n",
    "nn.add(tf.keras.layers.Dense(4))\n",
    "print(nn.summary())\n",
    "\n",
    "opti =  tf.keras.optimizers.Adam(learning_rate = 0.001)\n",
    "#nn.compile(optimizer =opti, loss='categorical_crossentropy', metrics = ['accuracy'])\n",
    "nn.compile(optimizer =opti, loss=tf.keras.losses.SparseCategoricalCrossentropy(from_logits=True), metrics = ['accuracy'])\n",
    "\n",
    "nn.fit(np.array(pd.concat([Xtrain_scaled_both,Xvalid_scaled_both])), np.array(ytrain_map + yvalid_map).reshape(-1,1), batch_size = 128,epochs = 50)"
   ]
  },
  {
   "cell_type": "code",
   "execution_count": 356,
   "metadata": {
    "scrolled": true
   },
   "outputs": [
    {
     "name": "stdout",
     "output_type": "stream",
     "text": [
      "              precision    recall  f1-score   support\n",
      "\n",
      "           1       0.64      0.69      0.66       750\n",
      "           2       0.62      0.44      0.52       750\n",
      "           3       0.50      0.57      0.53       750\n",
      "           4       0.74      0.79      0.77       750\n",
      "\n",
      "    accuracy                           0.62      3000\n",
      "   macro avg       0.63      0.62      0.62      3000\n",
      "weighted avg       0.63      0.62      0.62      3000\n",
      "\n"
     ]
    }
   ],
   "source": [
    "pred_nn = predict_nn(nn,Xtest_scaled_both)\n",
    "print(classification_report(test_vec.iloc[:,0],pred_nn))"
   ]
  },
  {
   "cell_type": "markdown",
   "metadata": {},
   "source": [
    "### Train and test distribution for features used"
   ]
  },
  {
   "cell_type": "code",
   "execution_count": 387,
   "metadata": {
    "scrolled": true
   },
   "outputs": [
    {
     "data": {
      "image/png": "[encoded data removed]",
      "text/plain": [
       "<Figure size 1080x360 with 2 Axes>"
      ]
     },
     "metadata": {
      "needs_background": "light"
     },
     "output_type": "display_data"
    }
   ],
   "source": [
    "boxplot2(train_filtered,balanced_test,\"length\",(0,5000),(0,5000),\"Length of document in train set\",\"Length of document in test set\")"
   ]
  },
  {
   "cell_type": "code",
   "execution_count": 385,
   "metadata": {},
   "outputs": [
    {
     "data": {
      "image/png": "[encoded data removed]",
      "text/plain": [
       "<Figure size 1080x360 with 2 Axes>"
      ]
     },
     "metadata": {
      "needs_background": "light"
     },
     "output_type": "display_data"
    }
   ],
   "source": [
    "stackplot2(train_filtered,balanced_test,\"hedges\",None,\"Train\",\"Test\")"
   ]
  },
  {
   "cell_type": "code",
   "execution_count": null,
   "metadata": {},
   "outputs": [],
   "source": []
  }
 ],
 "metadata": {
  "kernelspec": {
   "display_name": "Python 3 (ipykernel)",
   "language": "python",
   "name": "python3"
  },
  "language_info": {
   "codemirror_mode": {
    "name": "ipython",
    "version": 3
   },
   "file_extension": ".py",
   "mimetype": "text/x-python",
   "name": "python",
   "nbconvert_exporter": "python",
   "pygments_lexer": "ipython3",
   "version": "3.9.7"
  }
 },
 "nbformat": 4,
 "nbformat_minor": 2
}
